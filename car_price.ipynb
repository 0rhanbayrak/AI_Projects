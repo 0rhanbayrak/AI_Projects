{
 "cells": [
  {
   "cell_type": "markdown",
   "metadata": {},
   "source": [
    "Explanation:Goal of this project is to predict the price of a car by some algorithms.And comparing their results to find the most appropriate one.\n",
    "\n",
    "Method:Implementing some different regression algorithms on the dataset.\n",
    "\n",
    "Used Algorithms:Linear Regression,Decision Tree Regressor,Random Forest Regressor\n",
    "\n",
    "Libraries:pandas,numpy,sklearn,matplotlib"
   ]
  },
  {
   "cell_type": "code",
   "execution_count": 1,
   "metadata": {},
   "outputs": [
    {
     "data": {
      "text/html": [
       "<div>\n",
       "<style scoped>\n",
       "    .dataframe tbody tr th:only-of-type {\n",
       "        vertical-align: middle;\n",
       "    }\n",
       "\n",
       "    .dataframe tbody tr th {\n",
       "        vertical-align: top;\n",
       "    }\n",
       "\n",
       "    .dataframe thead th {\n",
       "        text-align: right;\n",
       "    }\n",
       "</style>\n",
       "<table border=\"1\" class=\"dataframe\">\n",
       "  <thead>\n",
       "    <tr style=\"text-align: right;\">\n",
       "      <th></th>\n",
       "      <th>Year</th>\n",
       "      <th>Mileage(miles)</th>\n",
       "      <th>Engine</th>\n",
       "      <th>PS</th>\n",
       "      <th>Number_of_Owners</th>\n",
       "      <th>Price(£)</th>\n",
       "      <th>PPY</th>\n",
       "      <th>Transmission_Manual</th>\n",
       "      <th>Fuel_Petrol</th>\n",
       "    </tr>\n",
       "  </thead>\n",
       "  <tbody>\n",
       "    <tr>\n",
       "      <th>0</th>\n",
       "      <td>2018.0</td>\n",
       "      <td>44000.0</td>\n",
       "      <td>1.6</td>\n",
       "      <td>114.398422</td>\n",
       "      <td>1</td>\n",
       "      <td>14995.0</td>\n",
       "      <td>2499.166667</td>\n",
       "      <td>1</td>\n",
       "      <td>0</td>\n",
       "    </tr>\n",
       "    <tr>\n",
       "      <th>1</th>\n",
       "      <td>2016.0</td>\n",
       "      <td>42596.0</td>\n",
       "      <td>1.0</td>\n",
       "      <td>93.688363</td>\n",
       "      <td>3</td>\n",
       "      <td>10755.0</td>\n",
       "      <td>2688.750000</td>\n",
       "      <td>1</td>\n",
       "      <td>1</td>\n",
       "    </tr>\n",
       "    <tr>\n",
       "      <th>2</th>\n",
       "      <td>2015.0</td>\n",
       "      <td>42700.0</td>\n",
       "      <td>1.4</td>\n",
       "      <td>123.274162</td>\n",
       "      <td>2</td>\n",
       "      <td>10799.0</td>\n",
       "      <td>3599.666667</td>\n",
       "      <td>1</td>\n",
       "      <td>1</td>\n",
       "    </tr>\n",
       "  </tbody>\n",
       "</table>\n",
       "</div>"
      ],
      "text/plain": [
       "     Year  Mileage(miles)  Engine          PS  Number_of_Owners  Price(£)  \\\n",
       "0  2018.0         44000.0     1.6  114.398422                 1   14995.0   \n",
       "1  2016.0         42596.0     1.0   93.688363                 3   10755.0   \n",
       "2  2015.0         42700.0     1.4  123.274162                 2   10799.0   \n",
       "\n",
       "           PPY  Transmission_Manual  Fuel_Petrol  \n",
       "0  2499.166667                    1            0  \n",
       "1  2688.750000                    1            1  \n",
       "2  3599.666667                    1            1  "
      ]
     },
     "execution_count": 1,
     "metadata": {},
     "output_type": "execute_result"
    }
   ],
   "source": [
    "import pandas as pd\n",
    "import numpy as np\n",
    "from sklearn.model_selection import train_test_split\n",
    "from sklearn.preprocessing import StandardScaler\n",
    "from sklearn.metrics import r2_score\n",
    "data=pd.read_csv(r\"C:\\Users\\Orhan Bayrak\\Desktop\\Yazilim\\Python\\Datasets\\audi_updated.csv\")\n",
    "data.head(3)"
   ]
  },
  {
   "cell_type": "code",
   "execution_count": 11,
   "metadata": {},
   "outputs": [
    {
     "data": {
      "text/plain": [
       "np.float64(30450.0)"
      ]
     },
     "execution_count": 11,
     "metadata": {},
     "output_type": "execute_result"
    }
   ],
   "source": [
    "price=data[\"Price(£)\"]\n",
    "np.max(price)"
   ]
  },
  {
   "cell_type": "code",
   "execution_count": 2,
   "metadata": {},
   "outputs": [
    {
     "data": {
      "text/html": [
       "<div>\n",
       "<style scoped>\n",
       "    .dataframe tbody tr th:only-of-type {\n",
       "        vertical-align: middle;\n",
       "    }\n",
       "\n",
       "    .dataframe tbody tr th {\n",
       "        vertical-align: top;\n",
       "    }\n",
       "\n",
       "    .dataframe thead th {\n",
       "        text-align: right;\n",
       "    }\n",
       "</style>\n",
       "<table border=\"1\" class=\"dataframe\">\n",
       "  <thead>\n",
       "    <tr style=\"text-align: right;\">\n",
       "      <th></th>\n",
       "      <th>Year</th>\n",
       "      <th>Mileage(miles)</th>\n",
       "      <th>Engine</th>\n",
       "      <th>PS</th>\n",
       "      <th>Number_of_Owners</th>\n",
       "      <th>Price(£)</th>\n",
       "      <th>PPY</th>\n",
       "      <th>Transmission_Manual</th>\n",
       "      <th>Fuel_Petrol</th>\n",
       "    </tr>\n",
       "  </thead>\n",
       "  <tbody>\n",
       "    <tr>\n",
       "      <th>Year</th>\n",
       "      <td>1.000000</td>\n",
       "      <td>-0.658829</td>\n",
       "      <td>-0.490308</td>\n",
       "      <td>0.015436</td>\n",
       "      <td>-0.485878</td>\n",
       "      <td>0.891991</td>\n",
       "      <td>-0.616092</td>\n",
       "      <td>-0.228528</td>\n",
       "      <td>0.358242</td>\n",
       "    </tr>\n",
       "    <tr>\n",
       "      <th>Mileage(miles)</th>\n",
       "      <td>-0.658829</td>\n",
       "      <td>1.000000</td>\n",
       "      <td>0.394254</td>\n",
       "      <td>-0.081030</td>\n",
       "      <td>0.328659</td>\n",
       "      <td>-0.779181</td>\n",
       "      <td>0.082322</td>\n",
       "      <td>0.245707</td>\n",
       "      <td>-0.439630</td>\n",
       "    </tr>\n",
       "    <tr>\n",
       "      <th>Engine</th>\n",
       "      <td>-0.490308</td>\n",
       "      <td>0.394254</td>\n",
       "      <td>1.000000</td>\n",
       "      <td>0.540442</td>\n",
       "      <td>0.289954</td>\n",
       "      <td>-0.392792</td>\n",
       "      <td>0.313309</td>\n",
       "      <td>0.033477</td>\n",
       "      <td>-0.619521</td>\n",
       "    </tr>\n",
       "    <tr>\n",
       "      <th>PS</th>\n",
       "      <td>0.015436</td>\n",
       "      <td>-0.081030</td>\n",
       "      <td>0.540442</td>\n",
       "      <td>1.000000</td>\n",
       "      <td>0.066172</td>\n",
       "      <td>0.192258</td>\n",
       "      <td>0.196310</td>\n",
       "      <td>-0.222107</td>\n",
       "      <td>0.133595</td>\n",
       "    </tr>\n",
       "    <tr>\n",
       "      <th>Number_of_Owners</th>\n",
       "      <td>-0.485878</td>\n",
       "      <td>0.328659</td>\n",
       "      <td>0.289954</td>\n",
       "      <td>0.066172</td>\n",
       "      <td>1.000000</td>\n",
       "      <td>-0.420748</td>\n",
       "      <td>0.309692</td>\n",
       "      <td>0.041736</td>\n",
       "      <td>-0.178678</td>\n",
       "    </tr>\n",
       "    <tr>\n",
       "      <th>Price(£)</th>\n",
       "      <td>0.891991</td>\n",
       "      <td>-0.779181</td>\n",
       "      <td>-0.392792</td>\n",
       "      <td>0.192258</td>\n",
       "      <td>-0.420748</td>\n",
       "      <td>1.000000</td>\n",
       "      <td>-0.246196</td>\n",
       "      <td>-0.410840</td>\n",
       "      <td>0.398078</td>\n",
       "    </tr>\n",
       "    <tr>\n",
       "      <th>PPY</th>\n",
       "      <td>-0.616092</td>\n",
       "      <td>0.082322</td>\n",
       "      <td>0.313309</td>\n",
       "      <td>0.196310</td>\n",
       "      <td>0.309692</td>\n",
       "      <td>-0.246196</td>\n",
       "      <td>1.000000</td>\n",
       "      <td>-0.156013</td>\n",
       "      <td>-0.061204</td>\n",
       "    </tr>\n",
       "    <tr>\n",
       "      <th>Transmission_Manual</th>\n",
       "      <td>-0.228528</td>\n",
       "      <td>0.245707</td>\n",
       "      <td>0.033477</td>\n",
       "      <td>-0.222107</td>\n",
       "      <td>0.041736</td>\n",
       "      <td>-0.410840</td>\n",
       "      <td>-0.156013</td>\n",
       "      <td>1.000000</td>\n",
       "      <td>-0.184331</td>\n",
       "    </tr>\n",
       "    <tr>\n",
       "      <th>Fuel_Petrol</th>\n",
       "      <td>0.358242</td>\n",
       "      <td>-0.439630</td>\n",
       "      <td>-0.619521</td>\n",
       "      <td>0.133595</td>\n",
       "      <td>-0.178678</td>\n",
       "      <td>0.398078</td>\n",
       "      <td>-0.061204</td>\n",
       "      <td>-0.184331</td>\n",
       "      <td>1.000000</td>\n",
       "    </tr>\n",
       "  </tbody>\n",
       "</table>\n",
       "</div>"
      ],
      "text/plain": [
       "                         Year  Mileage(miles)    Engine        PS  \\\n",
       "Year                 1.000000       -0.658829 -0.490308  0.015436   \n",
       "Mileage(miles)      -0.658829        1.000000  0.394254 -0.081030   \n",
       "Engine              -0.490308        0.394254  1.000000  0.540442   \n",
       "PS                   0.015436       -0.081030  0.540442  1.000000   \n",
       "Number_of_Owners    -0.485878        0.328659  0.289954  0.066172   \n",
       "Price(£)             0.891991       -0.779181 -0.392792  0.192258   \n",
       "PPY                 -0.616092        0.082322  0.313309  0.196310   \n",
       "Transmission_Manual -0.228528        0.245707  0.033477 -0.222107   \n",
       "Fuel_Petrol          0.358242       -0.439630 -0.619521  0.133595   \n",
       "\n",
       "                     Number_of_Owners  Price(£)       PPY  \\\n",
       "Year                        -0.485878  0.891991 -0.616092   \n",
       "Mileage(miles)               0.328659 -0.779181  0.082322   \n",
       "Engine                       0.289954 -0.392792  0.313309   \n",
       "PS                           0.066172  0.192258  0.196310   \n",
       "Number_of_Owners             1.000000 -0.420748  0.309692   \n",
       "Price(£)                    -0.420748  1.000000 -0.246196   \n",
       "PPY                          0.309692 -0.246196  1.000000   \n",
       "Transmission_Manual          0.041736 -0.410840 -0.156013   \n",
       "Fuel_Petrol                 -0.178678  0.398078 -0.061204   \n",
       "\n",
       "                     Transmission_Manual  Fuel_Petrol  \n",
       "Year                           -0.228528     0.358242  \n",
       "Mileage(miles)                  0.245707    -0.439630  \n",
       "Engine                          0.033477    -0.619521  \n",
       "PS                             -0.222107     0.133595  \n",
       "Number_of_Owners                0.041736    -0.178678  \n",
       "Price(£)                       -0.410840     0.398078  \n",
       "PPY                            -0.156013    -0.061204  \n",
       "Transmission_Manual             1.000000    -0.184331  \n",
       "Fuel_Petrol                    -0.184331     1.000000  "
      ]
     },
     "execution_count": 2,
     "metadata": {},
     "output_type": "execute_result"
    }
   ],
   "source": [
    "data.corr()"
   ]
  },
  {
   "cell_type": "code",
   "execution_count": 12,
   "metadata": {},
   "outputs": [
    {
     "data": {
      "text/plain": [
       "0.9672646885606295"
      ]
     },
     "execution_count": 12,
     "metadata": {},
     "output_type": "execute_result"
    }
   ],
   "source": [
    "#LINEAR REGRESSION\n",
    "from sklearn.linear_model import LinearRegression\n",
    "\n",
    "X=data.drop(columns=\"Price(£)\",axis=1)\n",
    "y=data[\"Price(£)\"]\n",
    "\n",
    "X_train,X_test,y_train,y_test=train_test_split(X,y,train_size=0.7)\n",
    "\n",
    "sc=StandardScaler()\n",
    "X_train_sc=sc.fit_transform(X_train)\n",
    "X_test_sc=sc.transform(X_test)\n",
    "\n",
    "lr=LinearRegression()\n",
    "model=lr.fit(X_train_sc,y_train)\n",
    "\n",
    "y_pred=model.predict(X_test_sc)\n",
    "lr_score=r2_score(y_test,y_pred)\n",
    "lr_score"
   ]
  },
  {
   "cell_type": "code",
   "execution_count": 13,
   "metadata": {},
   "outputs": [
    {
     "data": {
      "text/plain": [
       "0.9598839761751066"
      ]
     },
     "execution_count": 13,
     "metadata": {},
     "output_type": "execute_result"
    }
   ],
   "source": [
    "#DECISION TREE REGRESSOR\n",
    "from sklearn.tree import DecisionTreeRegressor\n",
    "\n",
    "X1=data.drop(columns=\"Price(£)\",axis=1)\n",
    "y1=data[\"Price(£)\"]\n",
    "\n",
    "X1_train,X1_test,y1_train,y1_test=train_test_split(X1,y1,train_size=0.7)\n",
    "\n",
    "dt=DecisionTreeRegressor()\n",
    "model1=dt.fit(X1_train,y1_train)\n",
    "\n",
    "y1_pred=model1.predict(X1_test)\n",
    "dt_score=r2_score(y1_test,y1_pred)\n",
    "dt_score"
   ]
  },
  {
   "cell_type": "code",
   "execution_count": 14,
   "metadata": {},
   "outputs": [
    {
     "data": {
      "text/plain": [
       "0.973127046271547"
      ]
     },
     "execution_count": 14,
     "metadata": {},
     "output_type": "execute_result"
    }
   ],
   "source": [
    "#RANDOM FOREST REGRESSOR\n",
    "from sklearn.ensemble import RandomForestRegressor\n",
    "\n",
    "X2=data.drop(columns=\"Price(£)\",axis=1)\n",
    "y2=data[\"Price(£)\"]\n",
    "\n",
    "X2_train,X2_test,y2_train,y2_test=train_test_split(X2,y2,train_size=0.7)\n",
    "\n",
    "rf=RandomForestRegressor(n_estimators=100)\n",
    "model2=rf.fit(X2_train,y2_train)\n",
    "\n",
    "y2_pred=model2.predict(X2_test)\n",
    "rf_score=r2_score(y2_test,y2_pred)\n",
    "rf_score"
   ]
  },
  {
   "cell_type": "code",
   "execution_count": 15,
   "metadata": {},
   "outputs": [],
   "source": [
    "lr_scores=[]\n",
    "for i in range(10):\n",
    "            X_train,X_test,y_train,y_test=train_test_split(X,y,train_size=0.7)\n",
    "\n",
    "            sc=StandardScaler()\n",
    "            X_train_sc=sc.fit_transform(X_train)\n",
    "            X_test_sc=sc.transform(X_test)\n",
    "\n",
    "            lr=LinearRegression()\n",
    "            model=lr.fit(X_train_sc,y_train)\n",
    "\n",
    "            y_pred=model.predict(X_test_sc)\n",
    "            lr_score=r2_score(y_test,y_pred)\n",
    "            lr_scores.append(lr_score)"
   ]
  },
  {
   "cell_type": "code",
   "execution_count": 16,
   "metadata": {},
   "outputs": [],
   "source": [
    "dt_scores=[]\n",
    "for i in range(10):\n",
    "            X1_train,X1_test,y1_train,y1_test=train_test_split(X1,y1,train_size=0.7)\n",
    "\n",
    "            dt=DecisionTreeRegressor()\n",
    "            model1=dt.fit(X1_train,y1_train)\n",
    "\n",
    "            y1_pred=model1.predict(X1_test)\n",
    "            dt_score=r2_score(y1_test,y1_pred)\n",
    "            dt_score\n",
    "            dt_scores.append(dt_score)"
   ]
  },
  {
   "cell_type": "code",
   "execution_count": 17,
   "metadata": {},
   "outputs": [],
   "source": [
    "rf_scores=[]\n",
    "for i in range(10):\n",
    "                X2_train,X2_test,y2_train,y2_test=train_test_split(X2,y2,train_size=0.7)\n",
    "\n",
    "                rf=RandomForestRegressor(n_estimators=100)\n",
    "                model2=rf.fit(X2_train,y2_train)\n",
    "\n",
    "                y2_pred=model2.predict(X2_test)\n",
    "                rf_score=r2_score(y2_test,y2_pred)\n",
    "                rf_score\n",
    "                rf_scores.append(rf_score)"
   ]
  },
  {
   "cell_type": "code",
   "execution_count": 18,
   "metadata": {},
   "outputs": [
    {
     "name": "stdout",
     "output_type": "stream",
     "text": [
      "0.9516305515357723\n",
      "0.9494930178986593\n",
      "0.9741545271406862\n"
     ]
    }
   ],
   "source": [
    "lr_mean=np.mean(lr_score)\n",
    "dt_mean=np.mean(dt_scores)\n",
    "rf_mean=np.mean(rf_scores)\n",
    "print(lr_mean)\n",
    "print(dt_mean)\n",
    "print(rf_mean)"
   ]
  },
  {
   "cell_type": "code",
   "execution_count": 43,
   "metadata": {},
   "outputs": [
    {
     "data": {
      "image/png": "[encoded data removed]",
      "text/plain": [
       "<Figure size 640x480 with 1 Axes>"
      ]
     },
     "metadata": {},
     "output_type": "display_data"
    }
   ],
   "source": [
    "import matplotlib.pyplot as plt\n",
    "\n",
    "algorithms=[\"LR\",\"DT\",\"RF\"]\n",
    "scores=[lr_mean,dt_mean,rf_mean]\n",
    "plt.bar(algorithms,scores,width=0.3,color=\"blue\")\n",
    "\n",
    "for i, value in enumerate(scores):\n",
    "    plt.text(i, value + 0.005, f'{value:.3f}', ha='center', va='bottom', fontsize=10)\n",
    "\n",
    "plt.title(\"Algorithm Scores\")\n",
    "plt.show()"
   ]
  }
 ],
 "metadata": {
  "kernelspec": {
   "display_name": "Python 3",
   "language": "python",
   "name": "python3"
  },
  "language_info": {
   "codemirror_mode": {
    "name": "ipython",
    "version": 3
   },
   "file_extension": ".py",
   "mimetype": "text/x-python",
   "name": "python",
   "nbconvert_exporter": "python",
   "pygments_lexer": "ipython3",
   "version": "3.13.0"
  }
 },
 "nbformat": 4,
 "nbformat_minor": 2
}
