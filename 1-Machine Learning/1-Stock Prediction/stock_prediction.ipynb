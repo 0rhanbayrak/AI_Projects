{
 "cells": [
  {
   "cell_type": "markdown",
   "metadata": {},
   "source": [
    "Descriptions: The Aim of this project is to visualize a stock price graph first and then make some future predictions for it\n",
    "\n",
    "Libraries:pandas,yahoo_fin,datetime,plotly,matplotlib,prophet"
   ]
  },
  {
   "cell_type": "code",
   "execution_count": null,
   "metadata": {},
   "outputs": [],
   "source": [
    "import pandas as pd\n",
    "from yahoo_fin import stock_info\n",
    "from datetime import date, timedelta \n",
    "import warnings\n",
    "warnings.filterwarnings(\"ignore\")"
   ]
  },
  {
   "cell_type": "code",
   "execution_count": 5,
   "metadata": {},
   "outputs": [
    {
     "name": "stdout",
     "output_type": "stream",
     "text": [
      "Start day: 2023-03-02\n",
      "End day: 2025-03-01\n"
     ]
    }
   ],
   "source": [
    "today=date.today()\n",
    "\n",
    "d2=date.today()-timedelta(days=730)\n",
    "d2=d2.strftime(\"%Y-%m-%d\")\n",
    "first_date=d2\n",
    "\n",
    "d1=today.strftime(\"%Y-%m-%d\")\n",
    "last_date=d1\n",
    "\n",
    "\n",
    "print(\"Start day: \"+first_date)\n",
    "print(\"End day: \"+last_date)"
   ]
  },
  {
   "cell_type": "code",
   "execution_count": null,
   "metadata": {},
   "outputs": [],
   "source": [
    "symbol = 'NVDA'\n",
    "data = stock_info.get_data(symbol,start_date=first_date,end_date=last_date)\n",
    "data[\"Date\"]=data.index\n",
    "data.reset_index(inplace=True)\n",
    "data.drop(columns=[\"ticker\",\"index\",\"adjclose\"],inplace=True)"
   ]
  },
  {
   "cell_type": "code",
   "execution_count": null,
   "metadata": {},
   "outputs": [
    {
     "data": {
      "application/vnd.plotly.v1+json": {
       "config": {
        "plotlyServerURL": "https://plot.ly"
       },
       "data": [
        {
         "hovertemplate": "Date=%{x}<br>close=%{y}<extra></extra>",
         "legendgroup": "",
         "line": {
          "color": "#636efa",
          "dash": "solid"
         },
         "marker": {
          "symbol": "circle"
         },
         "mode": "lines",
         "name": "",
         "orientation": "v",
         "showlegend": false,
         "type": "scatter",
         "x": [
          "2023-02-13T00:00:00.000000000",
          "2023-02-14T00:00:00.000000000",
          "2023-02-15T00:00:00.000000000",
          "2023-02-16T00:00:00.000000000",
          "2023-02-17T00:00:00.000000000",
          "2023-02-21T00:00:00.000000000",
          "2023-02-22T00:00:00.000000000",
          "2023-02-23T00:00:00.000000000",
          "2023-02-24T00:00:00.000000000",
          "2023-02-27T00:00:00.000000000",
          "2023-02-28T00:00:00.000000000",
          "2023-03-01T00:00:00.000000000",
          "2023-03-02T00:00:00.000000000",
          "2023-03-03T00:00:00.000000000",
          "2023-03-06T00:00:00.000000000",
          "2023-03-07T00:00:00.000000000",
          "2023-03-08T00:00:00.000000000",
          "2023-03-09T00:00:00.000000000",
          "2023-03-10T00:00:00.000000000",
          "2023-03-13T00:00:00.000000000",
          "2023-03-14T00:00:00.000000000",
          "2023-03-15T00:00:00.000000000",
          "2023-03-16T00:00:00.000000000",
          "2023-03-17T00:00:00.000000000",
          "2023-03-20T00:00:00.000000000",
          "2023-03-21T00:00:00.000000000",
          "2023-03-22T00:00:00.000000000",
          "2023-03-23T00:00:00.000000000",
          "2023-03-24T00:00:00.000000000",
          "2023-03-27T00:00:00.000000000",
          "2023-03-28T00:00:00.000000000",
          "2023-03-29T00:00:00.000000000",
          "2023-03-30T00:00:00.000000000",
          "2023-03-31T00:00:00.000000000",
          "2023-04-03T00:00:00.000000000",
          "2023-04-04T00:00:00.000000000",
          "2023-04-05T00:00:00.000000000",
          "2023-04-06T00:00:00.000000000",
          "2023-04-10T00:00:00.000000000",
          "2023-04-11T00:00:00.000000000",
          "2023-04-12T00:00:00.000000000",
          "2023-04-13T00:00:00.000000000",
          "2023-04-14T00:00:00.000000000",
          "2023-04-17T00:00:00.000000000",
          "2023-04-18T00:00:00.000000000",
          "2023-04-19T00:00:00.000000000",
          "2023-04-20T00:00:00.000000000",
          "2023-04-21T00:00:00.000000000",
          "2023-04-24T00:00:00.000000000",
          "2023-04-25T00:00:00.000000000",
          "2023-04-26T00:00:00.000000000",
          "2023-04-27T00:00:00.000000000",
          "2023-04-28T00:00:00.000000000",
          "2023-05-01T00:00:00.000000000",
          "2023-05-02T00:00:00.000000000",
          "2023-05-03T00:00:00.000000000",
          "2023-05-04T00:00:00.000000000",
          "2023-05-05T00:00:00.000000000",
          "2023-05-08T00:00:00.000000000",
          "2023-05-09T00:00:00.000000000",
          "2023-05-10T00:00:00.000000000",
          "2023-05-11T00:00:00.000000000",
          "2023-05-12T00:00:00.000000000",
          "2023-05-15T00:00:00.000000000",
          "2023-05-16T00:00:00.000000000",
          "2023-05-17T00:00:00.000000000",
          "2023-05-18T00:00:00.000000000",
          "2023-05-19T00:00:00.000000000",
          "2023-05-22T00:00:00.000000000",
          "2023-05-23T00:00:00.000000000",
          "2023-05-24T00:00:00.000000000",
          "2023-05-25T00:00:00.000000000",
          "2023-05-26T00:00:00.000000000",
          "2023-05-30T00:00:00.000000000",
          "2023-05-31T00:00:00.000000000",
          "2023-06-01T00:00:00.000000000",
          "2023-06-02T00:00:00.000000000",
          "2023-06-05T00:00:00.000000000",
          "2023-06-06T00:00:00.000000000",
          "2023-06-07T00:00:00.000000000",
          "2023-06-08T00:00:00.000000000",
          "2023-06-09T00:00:00.000000000",
          "2023-06-12T00:00:00.000000000",
          "2023-06-13T00:00:00.000000000",
          "2023-06-14T00:00:00.000000000",
          "2023-06-15T00:00:00.000000000",
          "2023-06-16T00:00:00.000000000",
          "2023-06-20T00:00:00.000000000",
          "2023-06-21T00:00:00.000000000",
          "2023-06-22T00:00:00.000000000",
          "2023-06-23T00:00:00.000000000",
          "2023-06-26T00:00:00.000000000",
          "2023-06-27T00:00:00.000000000",
          "2023-06-28T00:00:00.000000000",
          "2023-06-29T00:00:00.000000000",
          "2023-06-30T00:00:00.000000000",
          "2023-07-03T00:00:00.000000000",
          "2023-07-05T00:00:00.000000000",
          "2023-07-06T00:00:00.000000000",
          "2023-07-07T00:00:00.000000000",
          "2023-07-10T00:00:00.000000000",
          "2023-07-11T00:00:00.000000000",
          "2023-07-12T00:00:00.000000000",
          "2023-07-13T00:00:00.000000000",
          "2023-07-14T00:00:00.000000000",
          "2023-07-17T00:00:00.000000000",
          "2023-07-18T00:00:00.000000000",
          "2023-07-19T00:00:00.000000000",
          "2023-07-20T00:00:00.000000000",
          "2023-07-21T00:00:00.000000000",
          "2023-07-24T00:00:00.000000000",
          "2023-07-25T00:00:00.000000000",
          "2023-07-26T00:00:00.000000000",
          "2023-07-27T00:00:00.000000000",
          "2023-07-28T00:00:00.000000000",
          "2023-07-31T00:00:00.000000000",
          "2023-08-01T00:00:00.000000000",
          "2023-08-02T00:00:00.000000000",
          "2023-08-03T00:00:00.000000000",
          "2023-08-04T00:00:00.000000000",
          "2023-08-07T00:00:00.000000000",
          "2023-08-08T00:00:00.000000000",
          "2023-08-09T00:00:00.000000000",
          "2023-08-10T00:00:00.000000000",
          "2023-08-11T00:00:00.000000000",
          "2023-08-14T00:00:00.000000000",
          "2023-08-15T00:00:00.000000000",
          "2023-08-16T00:00:00.000000000",
          "2023-08-17T00:00:00.000000000",
          "2023-08-18T00:00:00.000000000",
          "2023-08-21T00:00:00.000000000",
          "2023-08-22T00:00:00.000000000",
          "2023-08-23T00:00:00.000000000",
          "2023-08-24T00:00:00.000000000",
          "2023-08-25T00:00:00.000000000",
          "2023-08-28T00:00:00.000000000",
          "2023-08-29T00:00:00.000000000",
          "2023-08-30T00:00:00.000000000",
          "2023-08-31T00:00:00.000000000",
          "2023-09-01T00:00:00.000000000",
          "2023-09-05T00:00:00.000000000",
          "2023-09-06T00:00:00.000000000",
          "2023-09-07T00:00:00.000000000",
          "2023-09-08T00:00:00.000000000",
          "2023-09-11T00:00:00.000000000",
          "2023-09-12T00:00:00.000000000",
          "2023-09-13T00:00:00.000000000",
          "2023-09-14T00:00:00.000000000",
          "2023-09-15T00:00:00.000000000",
          "2023-09-18T00:00:00.000000000",
          "2023-09-19T00:00:00.000000000",
          "2023-09-20T00:00:00.000000000",
          "2023-09-21T00:00:00.000000000",
          "2023-09-22T00:00:00.000000000",
          "2023-09-25T00:00:00.000000000",
          "2023-09-26T00:00:00.000000000",
          "2023-09-27T00:00:00.000000000",
          "2023-09-28T00:00:00.000000000",
          "2023-09-29T00:00:00.000000000",
          "2023-10-02T00:00:00.000000000",
          "2023-10-03T00:00:00.000000000",
          "2023-10-04T00:00:00.000000000",
          "2023-10-05T00:00:00.000000000",
          "2023-10-06T00:00:00.000000000",
          "2023-10-09T00:00:00.000000000",
          "2023-10-10T00:00:00.000000000",
          "2023-10-11T00:00:00.000000000",
          "2023-10-12T00:00:00.000000000",
          "2023-10-13T00:00:00.000000000",
          "2023-10-16T00:00:00.000000000",
          "2023-10-17T00:00:00.000000000",
          "2023-10-18T00:00:00.000000000",
          "2023-10-19T00:00:00.000000000",
          "2023-10-20T00:00:00.000000000",
          "2023-10-23T00:00:00.000000000",
          "2023-10-24T00:00:00.000000000",
          "2023-10-25T00:00:00.000000000",
          "2023-10-26T00:00:00.000000000",
          "2023-10-27T00:00:00.000000000",
          "2023-10-30T00:00:00.000000000",
          "2023-10-31T00:00:00.000000000",
          "2023-11-01T00:00:00.000000000",
          "2023-11-02T00:00:00.000000000",
          "2023-11-03T00:00:00.000000000",
          "2023-11-06T00:00:00.000000000",
          "2023-11-07T00:00:00.000000000",
          "2023-11-08T00:00:00.000000000",
          "2023-11-09T00:00:00.000000000",
          "2023-11-10T00:00:00.000000000",
          "2023-11-13T00:00:00.000000000",
          "2023-11-14T00:00:00.000000000",
          "2023-11-15T00:00:00.000000000",
          "2023-11-16T00:00:00.000000000",
          "2023-11-17T00:00:00.000000000",
          "2023-11-20T00:00:00.000000000",
          "2023-11-21T00:00:00.000000000",
          "2023-11-22T00:00:00.000000000",
          "2023-11-24T00:00:00.000000000",
          "2023-11-27T00:00:00.000000000",
          "2023-11-28T00:00:00.000000000",
          "2023-11-29T00:00:00.000000000",
          "2023-11-30T00:00:00.000000000",
          "2023-12-01T00:00:00.000000000",
          "2023-12-04T00:00:00.000000000",
          "2023-12-05T00:00:00.000000000",
          "2023-12-06T00:00:00.000000000",
          "2023-12-07T00:00:00.000000000",
          "2023-12-08T00:00:00.000000000",
          "2023-12-11T00:00:00.000000000",
          "2023-12-12T00:00:00.000000000",
          "2023-12-13T00:00:00.000000000",
          "2023-12-14T00:00:00.000000000",
          "2023-12-15T00:00:00.000000000",
          "2023-12-18T00:00:00.000000000",
          "2023-12-19T00:00:00.000000000",
          "2023-12-20T00:00:00.000000000",
          "2023-12-21T00:00:00.000000000",
          "2023-12-22T00:00:00.000000000",
          "2023-12-26T00:00:00.000000000",
          "2023-12-27T00:00:00.000000000",
          "2023-12-28T00:00:00.000000000",
          "2023-12-29T00:00:00.000000000",
          "2024-01-02T00:00:00.000000000",
          "2024-01-03T00:00:00.000000000",
          "2024-01-04T00:00:00.000000000",
          "2024-01-05T00:00:00.000000000",
          "2024-01-08T00:00:00.000000000",
          "2024-01-09T00:00:00.000000000",
          "2024-01-10T00:00:00.000000000",
          "2024-01-11T00:00:00.000000000",
          "2024-01-12T00:00:00.000000000",
          "2024-01-16T00:00:00.000000000",
          "2024-01-17T00:00:00.000000000",
          "2024-01-18T00:00:00.000000000",
          "2024-01-19T00:00:00.000000000",
          "2024-01-22T00:00:00.000000000",
          "2024-01-23T00:00:00.000000000",
          "2024-01-24T00:00:00.000000000",
          "2024-01-25T00:00:00.000000000",
          "2024-01-26T00:00:00.000000000",
          "2024-01-29T00:00:00.000000000",
          "2024-01-30T00:00:00.000000000",
          "2024-01-31T00:00:00.000000000",
          "2024-02-01T00:00:00.000000000",
          "2024-02-02T00:00:00.000000000",
          "2024-02-05T00:00:00.000000000",
          "2024-02-06T00:00:00.000000000",
          "2024-02-07T00:00:00.000000000",
          "2024-02-08T00:00:00.000000000",
          "2024-02-09T00:00:00.000000000",
          "2024-02-12T00:00:00.000000000",
          "2024-02-13T00:00:00.000000000",
          "2024-02-14T00:00:00.000000000",
          "2024-02-15T00:00:00.000000000",
          "2024-02-16T00:00:00.000000000",
          "2024-02-20T00:00:00.000000000",
          "2024-02-21T00:00:00.000000000",
          "2024-02-22T00:00:00.000000000",
          "2024-02-23T00:00:00.000000000",
          "2024-02-26T00:00:00.000000000",
          "2024-02-27T00:00:00.000000000",
          "2024-02-28T00:00:00.000000000",
          "2024-02-29T00:00:00.000000000",
          "2024-03-01T00:00:00.000000000",
          "2024-03-04T00:00:00.000000000",
          "2024-03-05T00:00:00.000000000",
          "2024-03-06T00:00:00.000000000",
          "2024-03-07T00:00:00.000000000",
          "2024-03-08T00:00:00.000000000",
          "2024-03-11T00:00:00.000000000",
          "2024-03-12T00:00:00.000000000",
          "2024-03-13T00:00:00.000000000",
          "2024-03-14T00:00:00.000000000",
          "2024-03-15T00:00:00.000000000",
          "2024-03-18T00:00:00.000000000",
          "2024-03-19T00:00:00.000000000",
          "2024-03-20T00:00:00.000000000",
          "2024-03-21T00:00:00.000000000",
          "2024-03-22T00:00:00.000000000",
          "2024-03-25T00:00:00.000000000",
          "2024-03-26T00:00:00.000000000",
          "2024-03-27T00:00:00.000000000",
          "2024-03-28T00:00:00.000000000",
          "2024-04-01T00:00:00.000000000",
          "2024-04-02T00:00:00.000000000",
          "2024-04-03T00:00:00.000000000",
          "2024-04-04T00:00:00.000000000",
          "2024-04-05T00:00:00.000000000",
          "2024-04-08T00:00:00.000000000",
          "2024-04-09T00:00:00.000000000",
          "2024-04-10T00:00:00.000000000",
          "2024-04-11T00:00:00.000000000",
          "2024-04-12T00:00:00.000000000",
          "2024-04-15T00:00:00.000000000",
          "2024-04-16T00:00:00.000000000",
          "2024-04-17T00:00:00.000000000",
          "2024-04-18T00:00:00.000000000",
          "2024-04-19T00:00:00.000000000",
          "2024-04-22T00:00:00.000000000",
          "2024-04-23T00:00:00.000000000",
          "2024-04-24T00:00:00.000000000",
          "2024-04-25T00:00:00.000000000",
          "2024-04-26T00:00:00.000000000",
          "2024-04-29T00:00:00.000000000",
          "2024-04-30T00:00:00.000000000",
          "2024-05-01T00:00:00.000000000",
          "2024-05-02T00:00:00.000000000",
          "2024-05-03T00:00:00.000000000",
          "2024-05-06T00:00:00.000000000",
          "2024-05-07T00:00:00.000000000",
          "2024-05-08T00:00:00.000000000",
          "2024-05-09T00:00:00.000000000",
          "2024-05-10T00:00:00.000000000",
          "2024-05-13T00:00:00.000000000",
          "2024-05-14T00:00:00.000000000",
          "2024-05-15T00:00:00.000000000",
          "2024-05-16T00:00:00.000000000",
          "2024-05-17T00:00:00.000000000",
          "2024-05-20T00:00:00.000000000",
          "2024-05-21T00:00:00.000000000",
          "2024-05-22T00:00:00.000000000",
          "2024-05-23T00:00:00.000000000",
          "2024-05-24T00:00:00.000000000",
          "2024-05-28T00:00:00.000000000",
          "2024-05-29T00:00:00.000000000",
          "2024-05-30T00:00:00.000000000",
          "2024-05-31T00:00:00.000000000",
          "2024-06-03T00:00:00.000000000",
          "2024-06-04T00:00:00.000000000",
          "2024-06-05T00:00:00.000000000",
          "2024-06-06T00:00:00.000000000",
          "2024-06-07T00:00:00.000000000",
          "2024-06-10T00:00:00.000000000",
          "2024-06-11T00:00:00.000000000",
          "2024-06-12T00:00:00.000000000",
          "2024-06-13T00:00:00.000000000",
          "2024-06-14T00:00:00.000000000",
          "2024-06-17T00:00:00.000000000",
          "2024-06-18T00:00:00.000000000",
          "2024-06-20T00:00:00.000000000",
          "2024-06-21T00:00:00.000000000",
          "2024-06-24T00:00:00.000000000",
          "2024-06-25T00:00:00.000000000",
          "2024-06-26T00:00:00.000000000",
          "2024-06-27T00:00:00.000000000",
          "2024-06-28T00:00:00.000000000",
          "2024-07-01T00:00:00.000000000",
          "2024-07-02T00:00:00.000000000",
          "2024-07-03T00:00:00.000000000",
          "2024-07-05T00:00:00.000000000",
          "2024-07-08T00:00:00.000000000",
          "2024-07-09T00:00:00.000000000",
          "2024-07-10T00:00:00.000000000",
          "2024-07-11T00:00:00.000000000",
          "2024-07-12T00:00:00.000000000",
          "2024-07-15T00:00:00.000000000",
          "2024-07-16T00:00:00.000000000",
          "2024-07-17T00:00:00.000000000",
          "2024-07-18T00:00:00.000000000",
          "2024-07-19T00:00:00.000000000",
          "2024-07-22T00:00:00.000000000",
          "2024-07-23T00:00:00.000000000",
          "2024-07-24T00:00:00.000000000",
          "2024-07-25T00:00:00.000000000",
          "2024-07-26T00:00:00.000000000",
          "2024-07-29T00:00:00.000000000",
          "2024-07-30T00:00:00.000000000",
          "2024-07-31T00:00:00.000000000",
          "2024-08-01T00:00:00.000000000",
          "2024-08-02T00:00:00.000000000",
          "2024-08-05T00:00:00.000000000",
          "2024-08-06T00:00:00.000000000",
          "2024-08-07T00:00:00.000000000",
          "2024-08-08T00:00:00.000000000",
          "2024-08-09T00:00:00.000000000",
          "2024-08-12T00:00:00.000000000",
          "2024-08-13T00:00:00.000000000",
          "2024-08-14T00:00:00.000000000",
          "2024-08-15T00:00:00.000000000",
          "2024-08-16T00:00:00.000000000",
          "2024-08-19T00:00:00.000000000",
          "2024-08-20T00:00:00.000000000",
          "2024-08-21T00:00:00.000000000",
          "2024-08-22T00:00:00.000000000",
          "2024-08-23T00:00:00.000000000",
          "2024-08-26T00:00:00.000000000",
          "2024-08-27T00:00:00.000000000",
          "2024-08-28T00:00:00.000000000",
          "2024-08-29T00:00:00.000000000",
          "2024-08-30T00:00:00.000000000",
          "2024-09-03T00:00:00.000000000",
          "2024-09-04T00:00:00.000000000",
          "2024-09-05T00:00:00.000000000",
          "2024-09-06T00:00:00.000000000",
          "2024-09-09T00:00:00.000000000",
          "2024-09-10T00:00:00.000000000",
          "2024-09-11T00:00:00.000000000",
          "2024-09-12T00:00:00.000000000",
          "2024-09-13T00:00:00.000000000",
          "2024-09-16T00:00:00.000000000",
          "2024-09-17T00:00:00.000000000",
          "2024-09-18T00:00:00.000000000",
          "2024-09-19T00:00:00.000000000",
          "2024-09-20T00:00:00.000000000",
          "2024-09-23T00:00:00.000000000",
          "2024-09-24T00:00:00.000000000",
          "2024-09-25T00:00:00.000000000",
          "2024-09-26T00:00:00.000000000",
          "2024-09-27T00:00:00.000000000",
          "2024-09-30T00:00:00.000000000",
          "2024-10-01T00:00:00.000000000",
          "2024-10-02T00:00:00.000000000",
          "2024-10-03T00:00:00.000000000",
          "2024-10-04T00:00:00.000000000",
          "2024-10-07T00:00:00.000000000",
          "2024-10-08T00:00:00.000000000",
          "2024-10-09T00:00:00.000000000",
          "2024-10-10T00:00:00.000000000",
          "2024-10-11T00:00:00.000000000",
          "2024-10-14T00:00:00.000000000",
          "2024-10-15T00:00:00.000000000",
          "2024-10-16T00:00:00.000000000",
          "2024-10-17T00:00:00.000000000",
          "2024-10-18T00:00:00.000000000",
          "2024-10-21T00:00:00.000000000",
          "2024-10-22T00:00:00.000000000",
          "2024-10-23T00:00:00.000000000",
          "2024-10-24T00:00:00.000000000",
          "2024-10-25T00:00:00.000000000",
          "2024-10-28T00:00:00.000000000",
          "2024-10-29T00:00:00.000000000",
          "2024-10-30T00:00:00.000000000",
          "2024-10-31T00:00:00.000000000",
          "2024-11-01T00:00:00.000000000",
          "2024-11-04T00:00:00.000000000",
          "2024-11-05T00:00:00.000000000",
          "2024-11-06T00:00:00.000000000",
          "2024-11-07T00:00:00.000000000",
          "2024-11-08T00:00:00.000000000",
          "2024-11-11T00:00:00.000000000",
          "2024-11-12T00:00:00.000000000",
          "2024-11-13T00:00:00.000000000",
          "2024-11-14T00:00:00.000000000",
          "2024-11-15T00:00:00.000000000",
          "2024-11-18T00:00:00.000000000",
          "2024-11-19T00:00:00.000000000",
          "2024-11-20T00:00:00.000000000",
          "2024-11-21T00:00:00.000000000",
          "2024-11-22T00:00:00.000000000",
          "2024-11-25T00:00:00.000000000",
          "2024-11-26T00:00:00.000000000",
          "2024-11-27T00:00:00.000000000",
          "2024-11-29T00:00:00.000000000",
          "2024-12-02T00:00:00.000000000",
          "2024-12-03T00:00:00.000000000",
          "2024-12-04T00:00:00.000000000",
          "2024-12-05T00:00:00.000000000",
          "2024-12-06T00:00:00.000000000",
          "2024-12-09T00:00:00.000000000",
          "2024-12-10T00:00:00.000000000",
          "2024-12-11T00:00:00.000000000",
          "2024-12-12T00:00:00.000000000",
          "2024-12-13T00:00:00.000000000",
          "2024-12-16T00:00:00.000000000",
          "2024-12-17T00:00:00.000000000",
          "2024-12-18T00:00:00.000000000",
          "2024-12-19T00:00:00.000000000",
          "2024-12-20T00:00:00.000000000",
          "2024-12-23T00:00:00.000000000",
          "2024-12-24T00:00:00.000000000",
          "2024-12-26T00:00:00.000000000",
          "2024-12-27T00:00:00.000000000",
          "2024-12-30T00:00:00.000000000",
          "2024-12-31T00:00:00.000000000",
          "2025-01-02T00:00:00.000000000",
          "2025-01-03T00:00:00.000000000",
          "2025-01-06T00:00:00.000000000",
          "2025-01-07T00:00:00.000000000",
          "2025-01-08T00:00:00.000000000",
          "2025-01-10T00:00:00.000000000",
          "2025-01-13T00:00:00.000000000",
          "2025-01-14T00:00:00.000000000",
          "2025-01-15T00:00:00.000000000",
          "2025-01-16T00:00:00.000000000",
          "2025-01-17T00:00:00.000000000",
          "2025-01-21T00:00:00.000000000",
          "2025-01-22T00:00:00.000000000",
          "2025-01-23T00:00:00.000000000",
          "2025-01-24T00:00:00.000000000",
          "2025-01-27T00:00:00.000000000",
          "2025-01-28T00:00:00.000000000",
          "2025-01-29T00:00:00.000000000",
          "2025-01-30T00:00:00.000000000",
          "2025-01-31T00:00:00.000000000",
          "2025-02-03T00:00:00.000000000",
          "2025-02-04T00:00:00.000000000",
          "2025-02-05T00:00:00.000000000",
          "2025-02-06T00:00:00.000000000",
          "2025-02-07T00:00:00.000000000",
          "2025-02-10T00:00:00.000000000",
          "2025-02-11T00:00:00.000000000"
         ],
         "xaxis": "x",
         "y": {
          "bdata": "AAAAYLrJNUAAAACAk/g2QAAAAICVwzZAAAAAIIMANkAAAAAAVGM1QAAAACCupzRAAAAAIAbBNEAAAADg+6k3QAAAAEA3STdAAAAAgEGAN0AAAADASzc3QAAAACCwsjZAAAAAQGJQN0AAAAAA1+M3QAAAAADTjTdAAAAAYLpJN0AAAAAAVi44QAAAAMCdbzdAAAAAQAr3NkAAAADAS/c2QAAAAMAgEDhAAAAAQF46OEAAAAAAf4o5QAAAAKCZuTlAAAAAYGbmOUAAAACg8TI6QAAAAODOdzpAAAAAYOUwO0AAAACAbMc6QAAAAKDvhzpAAAAAwPVoOkAAAABg5/s6QAAAAEAMYjtAAAAAgOnGO0AAAABACvc7QAAAAMD3cztAAAAAQInhOkAAAADgeAk7QAAAAGA5lDtAAAAAoEMrO0AAAABguH46QAAAACCHdjpAAAAAQAzCOkAAAAAggwA7QAAAAIDAqjtAAAAAAFbuO0AAAADAnxo7QAAAAMB2HjtAAAAAgMAKO0AAAAAgsj06QAAAAGC89DpAAAAAINs5O0AAAACAvr87QAAAAMD16DxAAAAAgMI1PEAAAADgT807QAAAAEDfjztAAAAAgBSuPEAAAADgpyY9QAAAAAAtkjxAAAAAYI/iPEAAAADA95M8QAAAAEAKVzxAAAAAwPfzPEAAAAAghzY9QAAAAGCRLT5AAAAAYJGtP0AAAACAlUM/QAAAAGAOLT9AAAAAwCCwPkAAAABguok+QAAAAKBw/UJAAAAAgBZ5Q0AAAABANQ5EQAAAAIDA6kJAAAAAYI/iQ0AAAAAg26lDQAAAAGDjlUNAAAAAQLZTQ0AAAADAzLxCQAAAAKBHQUNAAAAAYI9iQ0AAAAAgsr1DQAAAAODQgkRAAAAAwJ1/RUAAAACAlVNFQAAAAICTWEVAAAAAgGznRUAAAACAwoVFQAAAAEAzg0VAAAAAgMAaRUAAAABg5VBEQAAAAMAg8ERAAAAA4PmOREAAAABAN2lEQAAAAOCnJkVAAAAAIN00RUAAAACAkyhFQAAAACAvDUVAAAAAQGJARUAAAABAChdFQAAAAADXM0VAAAAAwHTzRUAAAABgDv1GQAAAAEAIvEZAAAAAAAI7R0AAAABgO79HQAAAACDbiUdAAAAAYI/CRkAAAABAjSdGQAAAAABWTkZAAAAAgOnWRkAAAAAg27lGQAAAAEAz80ZAAAAAAABgR0AAAADgT11HQAAAAGDlQEdAAAAAoG4iRkAAAACA60FGQAAAAEAKV0ZAAAAAQGC1RkAAAAAA/lRGQAAAAIDpRkVAAAAAAKoxRUAAAACgcG1EQAAAAEBi4EVAAAAA4FH4RUAAAABANb5FQAAAAEAIrEVAAAAAoEWmRUAAAACgxntHQAAAAACB1UZAAAAAINmOR0AAAAAg3ZRHQAAAAOBNAkdAAAAAQOFqR0AAAAAgWmRIQAAAAMDKoUhAAAAAoHCtSEAAAADgJkFIQAAAAOAkRkhAAAAA4M6HR0AAAAAg2R5HQAAAAEA3yUZAAAAAwMiWRkAAAAAgXG9GQAAAAIAUvkZAAAAAQF7KRkAAAABAM/NFQAAAAOCl+0VAAAAAYI/CRUAAAACAlx5FQAAAAAAtgkRAAAAAgBTOREAAAACAahxFQAAAAKCb9ERAAAAAYOc7RUAAAABgZItFQAAAAEDfv0VAAAAAoBhkRkAAAAAALcJFQAAAAIA/BUZAAAAAYBBYRkAAAABAieFGQAAAAKDxokZAAAAA4CTmRkAAAAAAK2dHQAAAAMD1eEdAAAAAAAK7RkAAAAAAKQxHQAAAAGAQ+EVAAAAAgBYZRUAAAACg7QxFQAAAAECJsURAAAAAwMx8RUAAAAAg3dRFQAAAAEC240RAAAAAYLopREAAAAAAAEBEQAAAAKCblERAAAAAANdjREAAAACgmSlFQAAAAKDEwEVAAAAA4KOARkAAAADAIOBGQAAAAIA9+kZAAAAA4HhJR0AAAACgmXlHQAAAAEDhKkhAAAAAIFxPSEAAAADA99NIQAAAAACqcUhAAAAAoHC9SEAAAADgJKZIQAAAACBaNElAAAAAANX4SEAAAADgpVtIQAAAAABU40dAAAAA4PkeSEAAAACAFulHQAAAAIDrEUhAAAAAYI9iR0AAAACA62FHQAAAAKBHwUZAAAAAwHJIR0AAAABAYsBGQAAAAMBJTEdAAAAAoMTAR0AAAACAQVBHQAAAAKAY1EdAAAAAoEMLSEAAAADAzCxIQAAAAIDrcUhAAAAAINsJSUAAAADgT81IQAAAAEA1DkhAAAAAYLh+SEAAAACAPWpIQAAAAEC2o0hAAAAAQGC1SEAAAADg0MJIQAAAAODQwkhAAAAAAIEVSEAAAAAA1chHQAAAAIC+/0dAAAAAgGqMSEAAAABAYiBKQAAAAIDrkUpAAAAAwMwsS0AAAABAN2lLQAAAAEDhWktAAAAAYOUwTEAAAADAyAZMQAAAACCyjUxAAAAAINm+TUAAAABAttNNQAAAAIC+701AAAAAAFauTkAAAADg+c5OQAAAAMD3g05AAAAAIIU7T0AAAABgEmNPQAAAAMB0w05AAAAAwHSDT0AAAACAPYpQQAAAAIA/VVFAAAAAoEUOUUAAAAAAVoZRQAAAACAGaVFAAAAAIIMIUkAAAABA3w9SQAAAACAxCFJAAAAAoJl5UkAAAACgHCpSQAAAAGA7J1JAAAAAoO1cUUAAAABANd5QQAAAAKBuolNAAAAAwEm0U0AAAABg48VTQAAAACDdrFNAAAAAoG5qU0AAAAAAK8dTQAAAACDbkVRAAAAAACtPVUAAAAAgsn1VQAAAAMDMLFZAAAAA4NAqV0AAAADAyuFVQAAAAECJcVVAAAAAoG76VkAAAAAA1bhWQAAAAIBq/FVAAAAAYJH1VUAAAADAHh1WQAAAAOB4WVZAAAAA4M6XVkAAAAAA19tWQAAAAAB/kldAAAAAwCDAV0AAAABg5yNXQAAAAAAAkFZAAAAAwMiWVkAAAABgO5dWQAAAAKDtXFZAAAAAILI9VkAAAACA63lVQAAAACCDAFZAAAAAIIPIVUAAAADgp1ZVQAAAAAB/wlVAAAAAgGynVkAAAABg5wtWQAAAAGAQgFVAAAAAYI/aVUAAAACAPQJVQAAAAKDxKlVAAAAAwMwMU0AAAADgJuFTQAAAAGASm1RAAAAAAFTrU0AAAADAcqhUQAAAAEAK71VAAAAAwHLwVUAAAABguplVQAAAAMCfwlRAAAAAwEl0VUAAAAAAfzJWQAAAAMD1CFdAAAAAwHSjVkAAAABAXppWQAAAAODOL1ZAAAAAIDF4VkAAAABAiZlWQAAAAMDI1lZAAAAA4FGoV0AAAADg+ZZXQAAAAOCnHldAAAAAgOuxV0AAAABAtNhXQAAAAMDMvFdAAAAA4CLzWUAAAAAgBJ5aQAAAAACqeVxAAAAAwMy0XEAAAAAAAKBbQAAAACCDaFtAAAAAAADAXEAAAADA9xtdQAAAAAApnF5AAAAAQN8/XkAAAAAA1TheQAAAAGCPcl5AAAAAgD06XkAAAADAzExfQAAAACCFM2BAAAAAACl8YEAAAAAgXF9gQAAAAGCP8mBAAAAAwPVYYEAAAADgeqRfQAAAAEAKh11AAAAAgMKFX0AAAACgmZlfQAAAACBc/15AAAAAYI/iXkAAAABAMxNfQAAAAEDhql5AAAAAwPUIYEAAAADAHnVfQAAAAGBmBmBAAAAAAClsYEAAAADAHt1gQAAAAKCZ2V9AAAAAIK4nYEAAAACAFA5gQAAAAEAKl19AAAAAIFx/XUAAAACAwkVeQAAAACCFe11AAAAAYI/iXkAAAACAwqVeQAAAAAAAkFxAAAAAgOsRXEAAAAAA10NcQAAAAIDC5VtAAAAAYLjuWUAAAACgR0FdQAAAAKBwTVtAAAAAoEfRWkAAAADAzBxZQAAAAAAAEFpAAAAAgD26WEAAAACAFD5aQAAAAAAAMFpAAAAAoEdBW0AAAADA9QhdQAAAAMAehV1AAAAAQAq3XkAAAADAHiVfQAAAAAAAQGBAAAAAAADQX0AAAAAAABBgQAAAACBc715AAAAAANcrYEAAAACgcJ1fQAAAAKCZCWBAAAAAQApnX0AAAACAwmVdQAAAACCu111AAAAAAAAAW0AAAACgcI1aQAAAAKBwzVpAAAAAwB61WUAAAACAFJ5aQAAAAGBmBltAAAAAgD06XUAAAADA9chdQAAAAGBmxl1AAAAAgOsxXUAAAACAwuVcQAAAACCuV1xAAAAAIK53XUAAAAAAAABdQAAAAOCjEF1AAAAAIK43XkAAAADgo+BeQAAAAGCPAl9AAAAAoJlZXkAAAAAAKVxeQAAAAAAAQF1AAAAAYGa2XUAAAABgZrZeQAAAAEDhOl9AAAAAgBTuX0AAAADgepxgQAAAAMDMlGBAAAAAgOvZYEAAAACgmdlgQAAAAIA9QmFAAAAAQDNzYEAAAABACvdgQAAAAIDCHWFAAAAAAABAYUAAAABguPZhQAAAAEDh8mFAAAAAgOtxYUAAAADAHo1hQAAAAKBHsWFAAAAA4KOQYUAAAAAAAKhhQAAAAEDhamFAAAAA4FGYYEAAAADAzOxgQAAAAKCZAWFAAAAAwB59YUAAAAAghTNiQAAAAAApnGJAAAAAACl0YkAAAADgUShiQAAAAKBHiWJAAAAA4KNIYkAAAADgUVhiQAAAACBcv2FAAAAAwMyEYUAAAADgUWBiQAAAAOB6PGJAAAAAoHBVYkAAAABgZr5hQAAAAOCjAGFAAAAAoHAdYUAAAABA4epgQAAAAAAASGFAAAAAAClUYUAAAADgUYhhQAAAAOB6JGJAAAAAgOshYkAAAACAFM5hQAAAAIDrWWFAAAAAgD3iYEAAAACA62lhQAAAAEDhKmFAAAAAAADIYEAAAAAAAIBgQAAAAOB6TGBAAAAAwB4dYEAAAACAwlVgQAAAAGBm1mBAAAAAoHB1YUAAAABACodhQAAAAIDCfWFAAAAA4FEgYUAAAAAgri9hQAAAAKBHyWBAAAAAgOtJYUAAAABACg9iQAAAAIDCrWJAAAAA4HqEYUAAAAAghYNhQAAAAMAe/WBAAAAAIFynYEAAAADgUXhgQAAAACCuB2FAAAAAgD2yYEAAAABguDZhQAAAAGCPmmFAAAAAgD1iYkAAAABACmdiQAAAAADX02FAAAAAQOGaXUAAAAAgrh9gQAAAAMDM7F5AAAAAoJkpX0AAAADgegReQAAAAIA9Kl1AAAAAoJmpXUAAAADAHjVfQAAAAIDCFWBAAAAAQOE6YEAAAACAPbJgQAAAAKCZmWBA",
          "dtype": "f8"
         },
         "yaxis": "y"
        }
       ],
       "layout": {
        "legend": {
         "tracegroupgap": 0
        },
        "template": {
         "data": {
          "bar": [
           {
            "error_x": {
             "color": "#2a3f5f"
            },
            "error_y": {
             "color": "#2a3f5f"
            },
            "marker": {
             "line": {
              "color": "#E5ECF6",
              "width": 0.5
             },
             "pattern": {
              "fillmode": "overlay",
              "size": 10,
              "solidity": 0.2
             }
            },
            "type": "bar"
           }
          ],
          "barpolar": [
           {
            "marker": {
             "line": {
              "color": "#E5ECF6",
              "width": 0.5
             },
             "pattern": {
              "fillmode": "overlay",
              "size": 10,
              "solidity": 0.2
             }
            },
            "type": "barpolar"
           }
          ],
          "carpet": [
           {
            "aaxis": {
             "endlinecolor": "#2a3f5f",
             "gridcolor": "white",
             "linecolor": "white",
             "minorgridcolor": "white",
             "startlinecolor": "#2a3f5f"
            },
            "baxis": {
             "endlinecolor": "#2a3f5f",
             "gridcolor": "white",
             "linecolor": "white",
             "minorgridcolor": "white",
             "startlinecolor": "#2a3f5f"
            },
            "type": "carpet"
           }
          ],
          "choropleth": [
           {
            "colorbar": {
             "outlinewidth": 0,
             "ticks": ""
            },
            "type": "choropleth"
           }
          ],
          "contour": [
           {
            "colorbar": {
             "outlinewidth": 0,
             "ticks": ""
            },
            "colorscale": [
             [
              0,
              "#0d0887"
             ],
             [
              0.1111111111111111,
              "#46039f"
             ],
             [
              0.2222222222222222,
              "#7201a8"
             ],
             [
              0.3333333333333333,
              "#9c179e"
             ],
             [
              0.4444444444444444,
              "#bd3786"
             ],
             [
              0.5555555555555556,
              "#d8576b"
             ],
             [
              0.6666666666666666,
              "#ed7953"
             ],
             [
              0.7777777777777778,
              "#fb9f3a"
             ],
             [
              0.8888888888888888,
              "#fdca26"
             ],
             [
              1,
              "#f0f921"
             ]
            ],
            "type": "contour"
           }
          ],
          "contourcarpet": [
           {
            "colorbar": {
             "outlinewidth": 0,
             "ticks": ""
            },
            "type": "contourcarpet"
           }
          ],
          "heatmap": [
           {
            "colorbar": {
             "outlinewidth": 0,
             "ticks": ""
            },
            "colorscale": [
             [
              0,
              "#0d0887"
             ],
             [
              0.1111111111111111,
              "#46039f"
             ],
             [
              0.2222222222222222,
              "#7201a8"
             ],
             [
              0.3333333333333333,
              "#9c179e"
             ],
             [
              0.4444444444444444,
              "#bd3786"
             ],
             [
              0.5555555555555556,
              "#d8576b"
             ],
             [
              0.6666666666666666,
              "#ed7953"
             ],
             [
              0.7777777777777778,
              "#fb9f3a"
             ],
             [
              0.8888888888888888,
              "#fdca26"
             ],
             [
              1,
              "#f0f921"
             ]
            ],
            "type": "heatmap"
           }
          ],
          "histogram": [
           {
            "marker": {
             "pattern": {
              "fillmode": "overlay",
              "size": 10,
              "solidity": 0.2
             }
            },
            "type": "histogram"
           }
          ],
          "histogram2d": [
           {
            "colorbar": {
             "outlinewidth": 0,
             "ticks": ""
            },
            "colorscale": [
             [
              0,
              "#0d0887"
             ],
             [
              0.1111111111111111,
              "#46039f"
             ],
             [
              0.2222222222222222,
              "#7201a8"
             ],
             [
              0.3333333333333333,
              "#9c179e"
             ],
             [
              0.4444444444444444,
              "#bd3786"
             ],
             [
              0.5555555555555556,
              "#d8576b"
             ],
             [
              0.6666666666666666,
              "#ed7953"
             ],
             [
              0.7777777777777778,
              "#fb9f3a"
             ],
             [
              0.8888888888888888,
              "#fdca26"
             ],
             [
              1,
              "#f0f921"
             ]
            ],
            "type": "histogram2d"
           }
          ],
          "histogram2dcontour": [
           {
            "colorbar": {
             "outlinewidth": 0,
             "ticks": ""
            },
            "colorscale": [
             [
              0,
              "#0d0887"
             ],
             [
              0.1111111111111111,
              "#46039f"
             ],
             [
              0.2222222222222222,
              "#7201a8"
             ],
             [
              0.3333333333333333,
              "#9c179e"
             ],
             [
              0.4444444444444444,
              "#bd3786"
             ],
             [
              0.5555555555555556,
              "#d8576b"
             ],
             [
              0.6666666666666666,
              "#ed7953"
             ],
             [
              0.7777777777777778,
              "#fb9f3a"
             ],
             [
              0.8888888888888888,
              "#fdca26"
             ],
             [
              1,
              "#f0f921"
             ]
            ],
            "type": "histogram2dcontour"
           }
          ],
          "mesh3d": [
           {
            "colorbar": {
             "outlinewidth": 0,
             "ticks": ""
            },
            "type": "mesh3d"
           }
          ],
          "parcoords": [
           {
            "line": {
             "colorbar": {
              "outlinewidth": 0,
              "ticks": ""
             }
            },
            "type": "parcoords"
           }
          ],
          "pie": [
           {
            "automargin": true,
            "type": "pie"
           }
          ],
          "scatter": [
           {
            "fillpattern": {
             "fillmode": "overlay",
             "size": 10,
             "solidity": 0.2
            },
            "type": "scatter"
           }
          ],
          "scatter3d": [
           {
            "line": {
             "colorbar": {
              "outlinewidth": 0,
              "ticks": ""
             }
            },
            "marker": {
             "colorbar": {
              "outlinewidth": 0,
              "ticks": ""
             }
            },
            "type": "scatter3d"
           }
          ],
          "scattercarpet": [
           {
            "marker": {
             "colorbar": {
              "outlinewidth": 0,
              "ticks": ""
             }
            },
            "type": "scattercarpet"
           }
          ],
          "scattergeo": [
           {
            "marker": {
             "colorbar": {
              "outlinewidth": 0,
              "ticks": ""
             }
            },
            "type": "scattergeo"
           }
          ],
          "scattergl": [
           {
            "marker": {
             "colorbar": {
              "outlinewidth": 0,
              "ticks": ""
             }
            },
            "type": "scattergl"
           }
          ],
          "scattermap": [
           {
            "marker": {
             "colorbar": {
              "outlinewidth": 0,
              "ticks": ""
             }
            },
            "type": "scattermap"
           }
          ],
          "scattermapbox": [
           {
            "marker": {
             "colorbar": {
              "outlinewidth": 0,
              "ticks": ""
             }
            },
            "type": "scattermapbox"
           }
          ],
          "scatterpolar": [
           {
            "marker": {
             "colorbar": {
              "outlinewidth": 0,
              "ticks": ""
             }
            },
            "type": "scatterpolar"
           }
          ],
          "scatterpolargl": [
           {
            "marker": {
             "colorbar": {
              "outlinewidth": 0,
              "ticks": ""
             }
            },
            "type": "scatterpolargl"
           }
          ],
          "scatterternary": [
           {
            "marker": {
             "colorbar": {
              "outlinewidth": 0,
              "ticks": ""
             }
            },
            "type": "scatterternary"
           }
          ],
          "surface": [
           {
            "colorbar": {
             "outlinewidth": 0,
             "ticks": ""
            },
            "colorscale": [
             [
              0,
              "#0d0887"
             ],
             [
              0.1111111111111111,
              "#46039f"
             ],
             [
              0.2222222222222222,
              "#7201a8"
             ],
             [
              0.3333333333333333,
              "#9c179e"
             ],
             [
              0.4444444444444444,
              "#bd3786"
             ],
             [
              0.5555555555555556,
              "#d8576b"
             ],
             [
              0.6666666666666666,
              "#ed7953"
             ],
             [
              0.7777777777777778,
              "#fb9f3a"
             ],
             [
              0.8888888888888888,
              "#fdca26"
             ],
             [
              1,
              "#f0f921"
             ]
            ],
            "type": "surface"
           }
          ],
          "table": [
           {
            "cells": {
             "fill": {
              "color": "#EBF0F8"
             },
             "line": {
              "color": "white"
             }
            },
            "header": {
             "fill": {
              "color": "#C8D4E3"
             },
             "line": {
              "color": "white"
             }
            },
            "type": "table"
           }
          ]
         },
         "layout": {
          "annotationdefaults": {
           "arrowcolor": "#2a3f5f",
           "arrowhead": 0,
           "arrowwidth": 1
          },
          "autotypenumbers": "strict",
          "coloraxis": {
           "colorbar": {
            "outlinewidth": 0,
            "ticks": ""
           }
          },
          "colorscale": {
           "diverging": [
            [
             0,
             "#8e0152"
            ],
            [
             0.1,
             "#c51b7d"
            ],
            [
             0.2,
             "#de77ae"
            ],
            [
             0.3,
             "#f1b6da"
            ],
            [
             0.4,
             "#fde0ef"
            ],
            [
             0.5,
             "#f7f7f7"
            ],
            [
             0.6,
             "#e6f5d0"
            ],
            [
             0.7,
             "#b8e186"
            ],
            [
             0.8,
             "#7fbc41"
            ],
            [
             0.9,
             "#4d9221"
            ],
            [
             1,
             "#276419"
            ]
           ],
           "sequential": [
            [
             0,
             "#0d0887"
            ],
            [
             0.1111111111111111,
             "#46039f"
            ],
            [
             0.2222222222222222,
             "#7201a8"
            ],
            [
             0.3333333333333333,
             "#9c179e"
            ],
            [
             0.4444444444444444,
             "#bd3786"
            ],
            [
             0.5555555555555556,
             "#d8576b"
            ],
            [
             0.6666666666666666,
             "#ed7953"
            ],
            [
             0.7777777777777778,
             "#fb9f3a"
            ],
            [
             0.8888888888888888,
             "#fdca26"
            ],
            [
             1,
             "#f0f921"
            ]
           ],
           "sequentialminus": [
            [
             0,
             "#0d0887"
            ],
            [
             0.1111111111111111,
             "#46039f"
            ],
            [
             0.2222222222222222,
             "#7201a8"
            ],
            [
             0.3333333333333333,
             "#9c179e"
            ],
            [
             0.4444444444444444,
             "#bd3786"
            ],
            [
             0.5555555555555556,
             "#d8576b"
            ],
            [
             0.6666666666666666,
             "#ed7953"
            ],
            [
             0.7777777777777778,
             "#fb9f3a"
            ],
            [
             0.8888888888888888,
             "#fdca26"
            ],
            [
             1,
             "#f0f921"
            ]
           ]
          },
          "colorway": [
           "#636efa",
           "#EF553B",
           "#00cc96",
           "#ab63fa",
           "#FFA15A",
           "#19d3f3",
           "#FF6692",
           "#B6E880",
           "#FF97FF",
           "#FECB52"
          ],
          "font": {
           "color": "#2a3f5f"
          },
          "geo": {
           "bgcolor": "white",
           "lakecolor": "white",
           "landcolor": "#E5ECF6",
           "showlakes": true,
           "showland": true,
           "subunitcolor": "white"
          },
          "hoverlabel": {
           "align": "left"
          },
          "hovermode": "closest",
          "mapbox": {
           "style": "light"
          },
          "paper_bgcolor": "white",
          "plot_bgcolor": "#E5ECF6",
          "polar": {
           "angularaxis": {
            "gridcolor": "white",
            "linecolor": "white",
            "ticks": ""
           },
           "bgcolor": "#E5ECF6",
           "radialaxis": {
            "gridcolor": "white",
            "linecolor": "white",
            "ticks": ""
           }
          },
          "scene": {
           "xaxis": {
            "backgroundcolor": "#E5ECF6",
            "gridcolor": "white",
            "gridwidth": 2,
            "linecolor": "white",
            "showbackground": true,
            "ticks": "",
            "zerolinecolor": "white"
           },
           "yaxis": {
            "backgroundcolor": "#E5ECF6",
            "gridcolor": "white",
            "gridwidth": 2,
            "linecolor": "white",
            "showbackground": true,
            "ticks": "",
            "zerolinecolor": "white"
           },
           "zaxis": {
            "backgroundcolor": "#E5ECF6",
            "gridcolor": "white",
            "gridwidth": 2,
            "linecolor": "white",
            "showbackground": true,
            "ticks": "",
            "zerolinecolor": "white"
           }
          },
          "shapedefaults": {
           "line": {
            "color": "#2a3f5f"
           }
          },
          "ternary": {
           "aaxis": {
            "gridcolor": "white",
            "linecolor": "white",
            "ticks": ""
           },
           "baxis": {
            "gridcolor": "white",
            "linecolor": "white",
            "ticks": ""
           },
           "bgcolor": "#E5ECF6",
           "caxis": {
            "gridcolor": "white",
            "linecolor": "white",
            "ticks": ""
           }
          },
          "title": {
           "x": 0.05
          },
          "xaxis": {
           "automargin": true,
           "gridcolor": "white",
           "linecolor": "white",
           "ticks": "",
           "title": {
            "standoff": 15
           },
           "zerolinecolor": "white",
           "zerolinewidth": 2
          },
          "yaxis": {
           "automargin": true,
           "gridcolor": "white",
           "linecolor": "white",
           "ticks": "",
           "title": {
            "standoff": 15
           },
           "zerolinecolor": "white",
           "zerolinewidth": 2
          }
         }
        },
        "title": {
         "text": "NVIDIA Price Analysis (Line Plot)"
        },
        "xaxis": {
         "anchor": "y",
         "domain": [
          0,
          1
         ],
         "title": {
          "text": "Date"
         }
        },
        "yaxis": {
         "anchor": "x",
         "domain": [
          0,
          1
         ],
         "title": {
          "text": "close"
         }
        }
       }
      }
     },
     "metadata": {},
     "output_type": "display_data"
    }
   ],
   "source": [
    "import plotly.express as px\n",
    "\n",
    "close_price=data[\"close\"]\n",
    "\n",
    "figure1 = px.line(data, \n",
    "                 x=data[\"Date\"], \n",
    "                 y=close_price,  \n",
    "                 title=\"NVIDIA Price Analysis (Line Plot)\")\n",
    "figure1.show()"
   ]
  },
  {
   "cell_type": "code",
   "execution_count": null,
   "metadata": {},
   "outputs": [
    {
     "data": {
      "application/vnd.plotly.v1+json": {
       "config": {
        "plotlyServerURL": "https://plot.ly"
       },
       "data": [
        {
         "close": {
          "bdata": "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",
          "dtype": "f8"
         },
         "high": {
          "bdata": "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",
          "dtype": "f8"
         },
         "low": {
          "bdata": "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",
          "dtype": "f8"
         },
         "open": {
          "bdata": "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",
          "dtype": "f8"
         },
         "type": "candlestick",
         "x": [
          "2023-02-13T00:00:00.000000000",
          "2023-02-14T00:00:00.000000000",
          "2023-02-15T00:00:00.000000000",
          "2023-02-16T00:00:00.000000000",
          "2023-02-17T00:00:00.000000000",
          "2023-02-21T00:00:00.000000000",
          "2023-02-22T00:00:00.000000000",
          "2023-02-23T00:00:00.000000000",
          "2023-02-24T00:00:00.000000000",
          "2023-02-27T00:00:00.000000000",
          "2023-02-28T00:00:00.000000000",
          "2023-03-01T00:00:00.000000000",
          "2023-03-02T00:00:00.000000000",
          "2023-03-03T00:00:00.000000000",
          "2023-03-06T00:00:00.000000000",
          "2023-03-07T00:00:00.000000000",
          "2023-03-08T00:00:00.000000000",
          "2023-03-09T00:00:00.000000000",
          "2023-03-10T00:00:00.000000000",
          "2023-03-13T00:00:00.000000000",
          "2023-03-14T00:00:00.000000000",
          "2023-03-15T00:00:00.000000000",
          "2023-03-16T00:00:00.000000000",
          "2023-03-17T00:00:00.000000000",
          "2023-03-20T00:00:00.000000000",
          "2023-03-21T00:00:00.000000000",
          "2023-03-22T00:00:00.000000000",
          "2023-03-23T00:00:00.000000000",
          "2023-03-24T00:00:00.000000000",
          "2023-03-27T00:00:00.000000000",
          "2023-03-28T00:00:00.000000000",
          "2023-03-29T00:00:00.000000000",
          "2023-03-30T00:00:00.000000000",
          "2023-03-31T00:00:00.000000000",
          "2023-04-03T00:00:00.000000000",
          "2023-04-04T00:00:00.000000000",
          "2023-04-05T00:00:00.000000000",
          "2023-04-06T00:00:00.000000000",
          "2023-04-10T00:00:00.000000000",
          "2023-04-11T00:00:00.000000000",
          "2023-04-12T00:00:00.000000000",
          "2023-04-13T00:00:00.000000000",
          "2023-04-14T00:00:00.000000000",
          "2023-04-17T00:00:00.000000000",
          "2023-04-18T00:00:00.000000000",
          "2023-04-19T00:00:00.000000000",
          "2023-04-20T00:00:00.000000000",
          "2023-04-21T00:00:00.000000000",
          "2023-04-24T00:00:00.000000000",
          "2023-04-25T00:00:00.000000000",
          "2023-04-26T00:00:00.000000000",
          "2023-04-27T00:00:00.000000000",
          "2023-04-28T00:00:00.000000000",
          "2023-05-01T00:00:00.000000000",
          "2023-05-02T00:00:00.000000000",
          "2023-05-03T00:00:00.000000000",
          "2023-05-04T00:00:00.000000000",
          "2023-05-05T00:00:00.000000000",
          "2023-05-08T00:00:00.000000000",
          "2023-05-09T00:00:00.000000000",
          "2023-05-10T00:00:00.000000000",
          "2023-05-11T00:00:00.000000000",
          "2023-05-12T00:00:00.000000000",
          "2023-05-15T00:00:00.000000000",
          "2023-05-16T00:00:00.000000000",
          "2023-05-17T00:00:00.000000000",
          "2023-05-18T00:00:00.000000000",
          "2023-05-19T00:00:00.000000000",
          "2023-05-22T00:00:00.000000000",
          "2023-05-23T00:00:00.000000000",
          "2023-05-24T00:00:00.000000000",
          "2023-05-25T00:00:00.000000000",
          "2023-05-26T00:00:00.000000000",
          "2023-05-30T00:00:00.000000000",
          "2023-05-31T00:00:00.000000000",
          "2023-06-01T00:00:00.000000000",
          "2023-06-02T00:00:00.000000000",
          "2023-06-05T00:00:00.000000000",
          "2023-06-06T00:00:00.000000000",
          "2023-06-07T00:00:00.000000000",
          "2023-06-08T00:00:00.000000000",
          "2023-06-09T00:00:00.000000000",
          "2023-06-12T00:00:00.000000000",
          "2023-06-13T00:00:00.000000000",
          "2023-06-14T00:00:00.000000000",
          "2023-06-15T00:00:00.000000000",
          "2023-06-16T00:00:00.000000000",
          "2023-06-20T00:00:00.000000000",
          "2023-06-21T00:00:00.000000000",
          "2023-06-22T00:00:00.000000000",
          "2023-06-23T00:00:00.000000000",
          "2023-06-26T00:00:00.000000000",
          "2023-06-27T00:00:00.000000000",
          "2023-06-28T00:00:00.000000000",
          "2023-06-29T00:00:00.000000000",
          "2023-06-30T00:00:00.000000000",
          "2023-07-03T00:00:00.000000000",
          "2023-07-05T00:00:00.000000000",
          "2023-07-06T00:00:00.000000000",
          "2023-07-07T00:00:00.000000000",
          "2023-07-10T00:00:00.000000000",
          "2023-07-11T00:00:00.000000000",
          "2023-07-12T00:00:00.000000000",
          "2023-07-13T00:00:00.000000000",
          "2023-07-14T00:00:00.000000000",
          "2023-07-17T00:00:00.000000000",
          "2023-07-18T00:00:00.000000000",
          "2023-07-19T00:00:00.000000000",
          "2023-07-20T00:00:00.000000000",
          "2023-07-21T00:00:00.000000000",
          "2023-07-24T00:00:00.000000000",
          "2023-07-25T00:00:00.000000000",
          "2023-07-26T00:00:00.000000000",
          "2023-07-27T00:00:00.000000000",
          "2023-07-28T00:00:00.000000000",
          "2023-07-31T00:00:00.000000000",
          "2023-08-01T00:00:00.000000000",
          "2023-08-02T00:00:00.000000000",
          "2023-08-03T00:00:00.000000000",
          "2023-08-04T00:00:00.000000000",
          "2023-08-07T00:00:00.000000000",
          "2023-08-08T00:00:00.000000000",
          "2023-08-09T00:00:00.000000000",
          "2023-08-10T00:00:00.000000000",
          "2023-08-11T00:00:00.000000000",
          "2023-08-14T00:00:00.000000000",
          "2023-08-15T00:00:00.000000000",
          "2023-08-16T00:00:00.000000000",
          "2023-08-17T00:00:00.000000000",
          "2023-08-18T00:00:00.000000000",
          "2023-08-21T00:00:00.000000000",
          "2023-08-22T00:00:00.000000000",
          "2023-08-23T00:00:00.000000000",
          "2023-08-24T00:00:00.000000000",
          "2023-08-25T00:00:00.000000000",
          "2023-08-28T00:00:00.000000000",
          "2023-08-29T00:00:00.000000000",
          "2023-08-30T00:00:00.000000000",
          "2023-08-31T00:00:00.000000000",
          "2023-09-01T00:00:00.000000000",
          "2023-09-05T00:00:00.000000000",
          "2023-09-06T00:00:00.000000000",
          "2023-09-07T00:00:00.000000000",
          "2023-09-08T00:00:00.000000000",
          "2023-09-11T00:00:00.000000000",
          "2023-09-12T00:00:00.000000000",
          "2023-09-13T00:00:00.000000000",
          "2023-09-14T00:00:00.000000000",
          "2023-09-15T00:00:00.000000000",
          "2023-09-18T00:00:00.000000000",
          "2023-09-19T00:00:00.000000000",
          "2023-09-20T00:00:00.000000000",
          "2023-09-21T00:00:00.000000000",
          "2023-09-22T00:00:00.000000000",
          "2023-09-25T00:00:00.000000000",
          "2023-09-26T00:00:00.000000000",
          "2023-09-27T00:00:00.000000000",
          "2023-09-28T00:00:00.000000000",
          "2023-09-29T00:00:00.000000000",
          "2023-10-02T00:00:00.000000000",
          "2023-10-03T00:00:00.000000000",
          "2023-10-04T00:00:00.000000000",
          "2023-10-05T00:00:00.000000000",
          "2023-10-06T00:00:00.000000000",
          "2023-10-09T00:00:00.000000000",
          "2023-10-10T00:00:00.000000000",
          "2023-10-11T00:00:00.000000000",
          "2023-10-12T00:00:00.000000000",
          "2023-10-13T00:00:00.000000000",
          "2023-10-16T00:00:00.000000000",
          "2023-10-17T00:00:00.000000000",
          "2023-10-18T00:00:00.000000000",
          "2023-10-19T00:00:00.000000000",
          "2023-10-20T00:00:00.000000000",
          "2023-10-23T00:00:00.000000000",
          "2023-10-24T00:00:00.000000000",
          "2023-10-25T00:00:00.000000000",
          "2023-10-26T00:00:00.000000000",
          "2023-10-27T00:00:00.000000000",
          "2023-10-30T00:00:00.000000000",
          "2023-10-31T00:00:00.000000000",
          "2023-11-01T00:00:00.000000000",
          "2023-11-02T00:00:00.000000000",
          "2023-11-03T00:00:00.000000000",
          "2023-11-06T00:00:00.000000000",
          "2023-11-07T00:00:00.000000000",
          "2023-11-08T00:00:00.000000000",
          "2023-11-09T00:00:00.000000000",
          "2023-11-10T00:00:00.000000000",
          "2023-11-13T00:00:00.000000000",
          "2023-11-14T00:00:00.000000000",
          "2023-11-15T00:00:00.000000000",
          "2023-11-16T00:00:00.000000000",
          "2023-11-17T00:00:00.000000000",
          "2023-11-20T00:00:00.000000000",
          "2023-11-21T00:00:00.000000000",
          "2023-11-22T00:00:00.000000000",
          "2023-11-24T00:00:00.000000000",
          "2023-11-27T00:00:00.000000000",
          "2023-11-28T00:00:00.000000000",
          "2023-11-29T00:00:00.000000000",
          "2023-11-30T00:00:00.000000000",
          "2023-12-01T00:00:00.000000000",
          "2023-12-04T00:00:00.000000000",
          "2023-12-05T00:00:00.000000000",
          "2023-12-06T00:00:00.000000000",
          "2023-12-07T00:00:00.000000000",
          "2023-12-08T00:00:00.000000000",
          "2023-12-11T00:00:00.000000000",
          "2023-12-12T00:00:00.000000000",
          "2023-12-13T00:00:00.000000000",
          "2023-12-14T00:00:00.000000000",
          "2023-12-15T00:00:00.000000000",
          "2023-12-18T00:00:00.000000000",
          "2023-12-19T00:00:00.000000000",
          "2023-12-20T00:00:00.000000000",
          "2023-12-21T00:00:00.000000000",
          "2023-12-22T00:00:00.000000000",
          "2023-12-26T00:00:00.000000000",
          "2023-12-27T00:00:00.000000000",
          "2023-12-28T00:00:00.000000000",
          "2023-12-29T00:00:00.000000000",
          "2024-01-02T00:00:00.000000000",
          "2024-01-03T00:00:00.000000000",
          "2024-01-04T00:00:00.000000000",
          "2024-01-05T00:00:00.000000000",
          "2024-01-08T00:00:00.000000000",
          "2024-01-09T00:00:00.000000000",
          "2024-01-10T00:00:00.000000000",
          "2024-01-11T00:00:00.000000000",
          "2024-01-12T00:00:00.000000000",
          "2024-01-16T00:00:00.000000000",
          "2024-01-17T00:00:00.000000000",
          "2024-01-18T00:00:00.000000000",
          "2024-01-19T00:00:00.000000000",
          "2024-01-22T00:00:00.000000000",
          "2024-01-23T00:00:00.000000000",
          "2024-01-24T00:00:00.000000000",
          "2024-01-25T00:00:00.000000000",
          "2024-01-26T00:00:00.000000000",
          "2024-01-29T00:00:00.000000000",
          "2024-01-30T00:00:00.000000000",
          "2024-01-31T00:00:00.000000000",
          "2024-02-01T00:00:00.000000000",
          "2024-02-02T00:00:00.000000000",
          "2024-02-05T00:00:00.000000000",
          "2024-02-06T00:00:00.000000000",
          "2024-02-07T00:00:00.000000000",
          "2024-02-08T00:00:00.000000000",
          "2024-02-09T00:00:00.000000000",
          "2024-02-12T00:00:00.000000000",
          "2024-02-13T00:00:00.000000000",
          "2024-02-14T00:00:00.000000000",
          "2024-02-15T00:00:00.000000000",
          "2024-02-16T00:00:00.000000000",
          "2024-02-20T00:00:00.000000000",
          "2024-02-21T00:00:00.000000000",
          "2024-02-22T00:00:00.000000000",
          "2024-02-23T00:00:00.000000000",
          "2024-02-26T00:00:00.000000000",
          "2024-02-27T00:00:00.000000000",
          "2024-02-28T00:00:00.000000000",
          "2024-02-29T00:00:00.000000000",
          "2024-03-01T00:00:00.000000000",
          "2024-03-04T00:00:00.000000000",
          "2024-03-05T00:00:00.000000000",
          "2024-03-06T00:00:00.000000000",
          "2024-03-07T00:00:00.000000000",
          "2024-03-08T00:00:00.000000000",
          "2024-03-11T00:00:00.000000000",
          "2024-03-12T00:00:00.000000000",
          "2024-03-13T00:00:00.000000000",
          "2024-03-14T00:00:00.000000000",
          "2024-03-15T00:00:00.000000000",
          "2024-03-18T00:00:00.000000000",
          "2024-03-19T00:00:00.000000000",
          "2024-03-20T00:00:00.000000000",
          "2024-03-21T00:00:00.000000000",
          "2024-03-22T00:00:00.000000000",
          "2024-03-25T00:00:00.000000000",
          "2024-03-26T00:00:00.000000000",
          "2024-03-27T00:00:00.000000000",
          "2024-03-28T00:00:00.000000000",
          "2024-04-01T00:00:00.000000000",
          "2024-04-02T00:00:00.000000000",
          "2024-04-03T00:00:00.000000000",
          "2024-04-04T00:00:00.000000000",
          "2024-04-05T00:00:00.000000000",
          "2024-04-08T00:00:00.000000000",
          "2024-04-09T00:00:00.000000000",
          "2024-04-10T00:00:00.000000000",
          "2024-04-11T00:00:00.000000000",
          "2024-04-12T00:00:00.000000000",
          "2024-04-15T00:00:00.000000000",
          "2024-04-16T00:00:00.000000000",
          "2024-04-17T00:00:00.000000000",
          "2024-04-18T00:00:00.000000000",
          "2024-04-19T00:00:00.000000000",
          "2024-04-22T00:00:00.000000000",
          "2024-04-23T00:00:00.000000000",
          "2024-04-24T00:00:00.000000000",
          "2024-04-25T00:00:00.000000000",
          "2024-04-26T00:00:00.000000000",
          "2024-04-29T00:00:00.000000000",
          "2024-04-30T00:00:00.000000000",
          "2024-05-01T00:00:00.000000000",
          "2024-05-02T00:00:00.000000000",
          "2024-05-03T00:00:00.000000000",
          "2024-05-06T00:00:00.000000000",
          "2024-05-07T00:00:00.000000000",
          "2024-05-08T00:00:00.000000000",
          "2024-05-09T00:00:00.000000000",
          "2024-05-10T00:00:00.000000000",
          "2024-05-13T00:00:00.000000000",
          "2024-05-14T00:00:00.000000000",
          "2024-05-15T00:00:00.000000000",
          "2024-05-16T00:00:00.000000000",
          "2024-05-17T00:00:00.000000000",
          "2024-05-20T00:00:00.000000000",
          "2024-05-21T00:00:00.000000000",
          "2024-05-22T00:00:00.000000000",
          "2024-05-23T00:00:00.000000000",
          "2024-05-24T00:00:00.000000000",
          "2024-05-28T00:00:00.000000000",
          "2024-05-29T00:00:00.000000000",
          "2024-05-30T00:00:00.000000000",
          "2024-05-31T00:00:00.000000000",
          "2024-06-03T00:00:00.000000000",
          "2024-06-04T00:00:00.000000000",
          "2024-06-05T00:00:00.000000000",
          "2024-06-06T00:00:00.000000000",
          "2024-06-07T00:00:00.000000000",
          "2024-06-10T00:00:00.000000000",
          "2024-06-11T00:00:00.000000000",
          "2024-06-12T00:00:00.000000000",
          "2024-06-13T00:00:00.000000000",
          "2024-06-14T00:00:00.000000000",
          "2024-06-17T00:00:00.000000000",
          "2024-06-18T00:00:00.000000000",
          "2024-06-20T00:00:00.000000000",
          "2024-06-21T00:00:00.000000000",
          "2024-06-24T00:00:00.000000000",
          "2024-06-25T00:00:00.000000000",
          "2024-06-26T00:00:00.000000000",
          "2024-06-27T00:00:00.000000000",
          "2024-06-28T00:00:00.000000000",
          "2024-07-01T00:00:00.000000000",
          "2024-07-02T00:00:00.000000000",
          "2024-07-03T00:00:00.000000000",
          "2024-07-05T00:00:00.000000000",
          "2024-07-08T00:00:00.000000000",
          "2024-07-09T00:00:00.000000000",
          "2024-07-10T00:00:00.000000000",
          "2024-07-11T00:00:00.000000000",
          "2024-07-12T00:00:00.000000000",
          "2024-07-15T00:00:00.000000000",
          "2024-07-16T00:00:00.000000000",
          "2024-07-17T00:00:00.000000000",
          "2024-07-18T00:00:00.000000000",
          "2024-07-19T00:00:00.000000000",
          "2024-07-22T00:00:00.000000000",
          "2024-07-23T00:00:00.000000000",
          "2024-07-24T00:00:00.000000000",
          "2024-07-25T00:00:00.000000000",
          "2024-07-26T00:00:00.000000000",
          "2024-07-29T00:00:00.000000000",
          "2024-07-30T00:00:00.000000000",
          "2024-07-31T00:00:00.000000000",
          "2024-08-01T00:00:00.000000000",
          "2024-08-02T00:00:00.000000000",
          "2024-08-05T00:00:00.000000000",
          "2024-08-06T00:00:00.000000000",
          "2024-08-07T00:00:00.000000000",
          "2024-08-08T00:00:00.000000000",
          "2024-08-09T00:00:00.000000000",
          "2024-08-12T00:00:00.000000000",
          "2024-08-13T00:00:00.000000000",
          "2024-08-14T00:00:00.000000000",
          "2024-08-15T00:00:00.000000000",
          "2024-08-16T00:00:00.000000000",
          "2024-08-19T00:00:00.000000000",
          "2024-08-20T00:00:00.000000000",
          "2024-08-21T00:00:00.000000000",
          "2024-08-22T00:00:00.000000000",
          "2024-08-23T00:00:00.000000000",
          "2024-08-26T00:00:00.000000000",
          "2024-08-27T00:00:00.000000000",
          "2024-08-28T00:00:00.000000000",
          "2024-08-29T00:00:00.000000000",
          "2024-08-30T00:00:00.000000000",
          "2024-09-03T00:00:00.000000000",
          "2024-09-04T00:00:00.000000000",
          "2024-09-05T00:00:00.000000000",
          "2024-09-06T00:00:00.000000000",
          "2024-09-09T00:00:00.000000000",
          "2024-09-10T00:00:00.000000000",
          "2024-09-11T00:00:00.000000000",
          "2024-09-12T00:00:00.000000000",
          "2024-09-13T00:00:00.000000000",
          "2024-09-16T00:00:00.000000000",
          "2024-09-17T00:00:00.000000000",
          "2024-09-18T00:00:00.000000000",
          "2024-09-19T00:00:00.000000000",
          "2024-09-20T00:00:00.000000000",
          "2024-09-23T00:00:00.000000000",
          "2024-09-24T00:00:00.000000000",
          "2024-09-25T00:00:00.000000000",
          "2024-09-26T00:00:00.000000000",
          "2024-09-27T00:00:00.000000000",
          "2024-09-30T00:00:00.000000000",
          "2024-10-01T00:00:00.000000000",
          "2024-10-02T00:00:00.000000000",
          "2024-10-03T00:00:00.000000000",
          "2024-10-04T00:00:00.000000000",
          "2024-10-07T00:00:00.000000000",
          "2024-10-08T00:00:00.000000000",
          "2024-10-09T00:00:00.000000000",
          "2024-10-10T00:00:00.000000000",
          "2024-10-11T00:00:00.000000000",
          "2024-10-14T00:00:00.000000000",
          "2024-10-15T00:00:00.000000000",
          "2024-10-16T00:00:00.000000000",
          "2024-10-17T00:00:00.000000000",
          "2024-10-18T00:00:00.000000000",
          "2024-10-21T00:00:00.000000000",
          "2024-10-22T00:00:00.000000000",
          "2024-10-23T00:00:00.000000000",
          "2024-10-24T00:00:00.000000000",
          "2024-10-25T00:00:00.000000000",
          "2024-10-28T00:00:00.000000000",
          "2024-10-29T00:00:00.000000000",
          "2024-10-30T00:00:00.000000000",
          "2024-10-31T00:00:00.000000000",
          "2024-11-01T00:00:00.000000000",
          "2024-11-04T00:00:00.000000000",
          "2024-11-05T00:00:00.000000000",
          "2024-11-06T00:00:00.000000000",
          "2024-11-07T00:00:00.000000000",
          "2024-11-08T00:00:00.000000000",
          "2024-11-11T00:00:00.000000000",
          "2024-11-12T00:00:00.000000000",
          "2024-11-13T00:00:00.000000000",
          "2024-11-14T00:00:00.000000000",
          "2024-11-15T00:00:00.000000000",
          "2024-11-18T00:00:00.000000000",
          "2024-11-19T00:00:00.000000000",
          "2024-11-20T00:00:00.000000000",
          "2024-11-21T00:00:00.000000000",
          "2024-11-22T00:00:00.000000000",
          "2024-11-25T00:00:00.000000000",
          "2024-11-26T00:00:00.000000000",
          "2024-11-27T00:00:00.000000000",
          "2024-11-29T00:00:00.000000000",
          "2024-12-02T00:00:00.000000000",
          "2024-12-03T00:00:00.000000000",
          "2024-12-04T00:00:00.000000000",
          "2024-12-05T00:00:00.000000000",
          "2024-12-06T00:00:00.000000000",
          "2024-12-09T00:00:00.000000000",
          "2024-12-10T00:00:00.000000000",
          "2024-12-11T00:00:00.000000000",
          "2024-12-12T00:00:00.000000000",
          "2024-12-13T00:00:00.000000000",
          "2024-12-16T00:00:00.000000000",
          "2024-12-17T00:00:00.000000000",
          "2024-12-18T00:00:00.000000000",
          "2024-12-19T00:00:00.000000000",
          "2024-12-20T00:00:00.000000000",
          "2024-12-23T00:00:00.000000000",
          "2024-12-24T00:00:00.000000000",
          "2024-12-26T00:00:00.000000000",
          "2024-12-27T00:00:00.000000000",
          "2024-12-30T00:00:00.000000000",
          "2024-12-31T00:00:00.000000000",
          "2025-01-02T00:00:00.000000000",
          "2025-01-03T00:00:00.000000000",
          "2025-01-06T00:00:00.000000000",
          "2025-01-07T00:00:00.000000000",
          "2025-01-08T00:00:00.000000000",
          "2025-01-10T00:00:00.000000000",
          "2025-01-13T00:00:00.000000000",
          "2025-01-14T00:00:00.000000000",
          "2025-01-15T00:00:00.000000000",
          "2025-01-16T00:00:00.000000000",
          "2025-01-17T00:00:00.000000000",
          "2025-01-21T00:00:00.000000000",
          "2025-01-22T00:00:00.000000000",
          "2025-01-23T00:00:00.000000000",
          "2025-01-24T00:00:00.000000000",
          "2025-01-27T00:00:00.000000000",
          "2025-01-28T00:00:00.000000000",
          "2025-01-29T00:00:00.000000000",
          "2025-01-30T00:00:00.000000000",
          "2025-01-31T00:00:00.000000000",
          "2025-02-03T00:00:00.000000000",
          "2025-02-04T00:00:00.000000000",
          "2025-02-05T00:00:00.000000000",
          "2025-02-06T00:00:00.000000000",
          "2025-02-07T00:00:00.000000000",
          "2025-02-10T00:00:00.000000000",
          "2025-02-11T00:00:00.000000000"
         ]
        }
       ],
       "layout": {
        "template": {
         "data": {
          "bar": [
           {
            "error_x": {
             "color": "#2a3f5f"
            },
            "error_y": {
             "color": "#2a3f5f"
            },
            "marker": {
             "line": {
              "color": "#E5ECF6",
              "width": 0.5
             },
             "pattern": {
              "fillmode": "overlay",
              "size": 10,
              "solidity": 0.2
             }
            },
            "type": "bar"
           }
          ],
          "barpolar": [
           {
            "marker": {
             "line": {
              "color": "#E5ECF6",
              "width": 0.5
             },
             "pattern": {
              "fillmode": "overlay",
              "size": 10,
              "solidity": 0.2
             }
            },
            "type": "barpolar"
           }
          ],
          "carpet": [
           {
            "aaxis": {
             "endlinecolor": "#2a3f5f",
             "gridcolor": "white",
             "linecolor": "white",
             "minorgridcolor": "white",
             "startlinecolor": "#2a3f5f"
            },
            "baxis": {
             "endlinecolor": "#2a3f5f",
             "gridcolor": "white",
             "linecolor": "white",
             "minorgridcolor": "white",
             "startlinecolor": "#2a3f5f"
            },
            "type": "carpet"
           }
          ],
          "choropleth": [
           {
            "colorbar": {
             "outlinewidth": 0,
             "ticks": ""
            },
            "type": "choropleth"
           }
          ],
          "contour": [
           {
            "colorbar": {
             "outlinewidth": 0,
             "ticks": ""
            },
            "colorscale": [
             [
              0,
              "#0d0887"
             ],
             [
              0.1111111111111111,
              "#46039f"
             ],
             [
              0.2222222222222222,
              "#7201a8"
             ],
             [
              0.3333333333333333,
              "#9c179e"
             ],
             [
              0.4444444444444444,
              "#bd3786"
             ],
             [
              0.5555555555555556,
              "#d8576b"
             ],
             [
              0.6666666666666666,
              "#ed7953"
             ],
             [
              0.7777777777777778,
              "#fb9f3a"
             ],
             [
              0.8888888888888888,
              "#fdca26"
             ],
             [
              1,
              "#f0f921"
             ]
            ],
            "type": "contour"
           }
          ],
          "contourcarpet": [
           {
            "colorbar": {
             "outlinewidth": 0,
             "ticks": ""
            },
            "type": "contourcarpet"
           }
          ],
          "heatmap": [
           {
            "colorbar": {
             "outlinewidth": 0,
             "ticks": ""
            },
            "colorscale": [
             [
              0,
              "#0d0887"
             ],
             [
              0.1111111111111111,
              "#46039f"
             ],
             [
              0.2222222222222222,
              "#7201a8"
             ],
             [
              0.3333333333333333,
              "#9c179e"
             ],
             [
              0.4444444444444444,
              "#bd3786"
             ],
             [
              0.5555555555555556,
              "#d8576b"
             ],
             [
              0.6666666666666666,
              "#ed7953"
             ],
             [
              0.7777777777777778,
              "#fb9f3a"
             ],
             [
              0.8888888888888888,
              "#fdca26"
             ],
             [
              1,
              "#f0f921"
             ]
            ],
            "type": "heatmap"
           }
          ],
          "histogram": [
           {
            "marker": {
             "pattern": {
              "fillmode": "overlay",
              "size": 10,
              "solidity": 0.2
             }
            },
            "type": "histogram"
           }
          ],
          "histogram2d": [
           {
            "colorbar": {
             "outlinewidth": 0,
             "ticks": ""
            },
            "colorscale": [
             [
              0,
              "#0d0887"
             ],
             [
              0.1111111111111111,
              "#46039f"
             ],
             [
              0.2222222222222222,
              "#7201a8"
             ],
             [
              0.3333333333333333,
              "#9c179e"
             ],
             [
              0.4444444444444444,
              "#bd3786"
             ],
             [
              0.5555555555555556,
              "#d8576b"
             ],
             [
              0.6666666666666666,
              "#ed7953"
             ],
             [
              0.7777777777777778,
              "#fb9f3a"
             ],
             [
              0.8888888888888888,
              "#fdca26"
             ],
             [
              1,
              "#f0f921"
             ]
            ],
            "type": "histogram2d"
           }
          ],
          "histogram2dcontour": [
           {
            "colorbar": {
             "outlinewidth": 0,
             "ticks": ""
            },
            "colorscale": [
             [
              0,
              "#0d0887"
             ],
             [
              0.1111111111111111,
              "#46039f"
             ],
             [
              0.2222222222222222,
              "#7201a8"
             ],
             [
              0.3333333333333333,
              "#9c179e"
             ],
             [
              0.4444444444444444,
              "#bd3786"
             ],
             [
              0.5555555555555556,
              "#d8576b"
             ],
             [
              0.6666666666666666,
              "#ed7953"
             ],
             [
              0.7777777777777778,
              "#fb9f3a"
             ],
             [
              0.8888888888888888,
              "#fdca26"
             ],
             [
              1,
              "#f0f921"
             ]
            ],
            "type": "histogram2dcontour"
           }
          ],
          "mesh3d": [
           {
            "colorbar": {
             "outlinewidth": 0,
             "ticks": ""
            },
            "type": "mesh3d"
           }
          ],
          "parcoords": [
           {
            "line": {
             "colorbar": {
              "outlinewidth": 0,
              "ticks": ""
             }
            },
            "type": "parcoords"
           }
          ],
          "pie": [
           {
            "automargin": true,
            "type": "pie"
           }
          ],
          "scatter": [
           {
            "fillpattern": {
             "fillmode": "overlay",
             "size": 10,
             "solidity": 0.2
            },
            "type": "scatter"
           }
          ],
          "scatter3d": [
           {
            "line": {
             "colorbar": {
              "outlinewidth": 0,
              "ticks": ""
             }
            },
            "marker": {
             "colorbar": {
              "outlinewidth": 0,
              "ticks": ""
             }
            },
            "type": "scatter3d"
           }
          ],
          "scattercarpet": [
           {
            "marker": {
             "colorbar": {
              "outlinewidth": 0,
              "ticks": ""
             }
            },
            "type": "scattercarpet"
           }
          ],
          "scattergeo": [
           {
            "marker": {
             "colorbar": {
              "outlinewidth": 0,
              "ticks": ""
             }
            },
            "type": "scattergeo"
           }
          ],
          "scattergl": [
           {
            "marker": {
             "colorbar": {
              "outlinewidth": 0,
              "ticks": ""
             }
            },
            "type": "scattergl"
           }
          ],
          "scattermap": [
           {
            "marker": {
             "colorbar": {
              "outlinewidth": 0,
              "ticks": ""
             }
            },
            "type": "scattermap"
           }
          ],
          "scattermapbox": [
           {
            "marker": {
             "colorbar": {
              "outlinewidth": 0,
              "ticks": ""
             }
            },
            "type": "scattermapbox"
           }
          ],
          "scatterpolar": [
           {
            "marker": {
             "colorbar": {
              "outlinewidth": 0,
              "ticks": ""
             }
            },
            "type": "scatterpolar"
           }
          ],
          "scatterpolargl": [
           {
            "marker": {
             "colorbar": {
              "outlinewidth": 0,
              "ticks": ""
             }
            },
            "type": "scatterpolargl"
           }
          ],
          "scatterternary": [
           {
            "marker": {
             "colorbar": {
              "outlinewidth": 0,
              "ticks": ""
             }
            },
            "type": "scatterternary"
           }
          ],
          "surface": [
           {
            "colorbar": {
             "outlinewidth": 0,
             "ticks": ""
            },
            "colorscale": [
             [
              0,
              "#0d0887"
             ],
             [
              0.1111111111111111,
              "#46039f"
             ],
             [
              0.2222222222222222,
              "#7201a8"
             ],
             [
              0.3333333333333333,
              "#9c179e"
             ],
             [
              0.4444444444444444,
              "#bd3786"
             ],
             [
              0.5555555555555556,
              "#d8576b"
             ],
             [
              0.6666666666666666,
              "#ed7953"
             ],
             [
              0.7777777777777778,
              "#fb9f3a"
             ],
             [
              0.8888888888888888,
              "#fdca26"
             ],
             [
              1,
              "#f0f921"
             ]
            ],
            "type": "surface"
           }
          ],
          "table": [
           {
            "cells": {
             "fill": {
              "color": "#EBF0F8"
             },
             "line": {
              "color": "white"
             }
            },
            "header": {
             "fill": {
              "color": "#C8D4E3"
             },
             "line": {
              "color": "white"
             }
            },
            "type": "table"
           }
          ]
         },
         "layout": {
          "annotationdefaults": {
           "arrowcolor": "#2a3f5f",
           "arrowhead": 0,
           "arrowwidth": 1
          },
          "autotypenumbers": "strict",
          "coloraxis": {
           "colorbar": {
            "outlinewidth": 0,
            "ticks": ""
           }
          },
          "colorscale": {
           "diverging": [
            [
             0,
             "#8e0152"
            ],
            [
             0.1,
             "#c51b7d"
            ],
            [
             0.2,
             "#de77ae"
            ],
            [
             0.3,
             "#f1b6da"
            ],
            [
             0.4,
             "#fde0ef"
            ],
            [
             0.5,
             "#f7f7f7"
            ],
            [
             0.6,
             "#e6f5d0"
            ],
            [
             0.7,
             "#b8e186"
            ],
            [
             0.8,
             "#7fbc41"
            ],
            [
             0.9,
             "#4d9221"
            ],
            [
             1,
             "#276419"
            ]
           ],
           "sequential": [
            [
             0,
             "#0d0887"
            ],
            [
             0.1111111111111111,
             "#46039f"
            ],
            [
             0.2222222222222222,
             "#7201a8"
            ],
            [
             0.3333333333333333,
             "#9c179e"
            ],
            [
             0.4444444444444444,
             "#bd3786"
            ],
            [
             0.5555555555555556,
             "#d8576b"
            ],
            [
             0.6666666666666666,
             "#ed7953"
            ],
            [
             0.7777777777777778,
             "#fb9f3a"
            ],
            [
             0.8888888888888888,
             "#fdca26"
            ],
            [
             1,
             "#f0f921"
            ]
           ],
           "sequentialminus": [
            [
             0,
             "#0d0887"
            ],
            [
             0.1111111111111111,
             "#46039f"
            ],
            [
             0.2222222222222222,
             "#7201a8"
            ],
            [
             0.3333333333333333,
             "#9c179e"
            ],
            [
             0.4444444444444444,
             "#bd3786"
            ],
            [
             0.5555555555555556,
             "#d8576b"
            ],
            [
             0.6666666666666666,
             "#ed7953"
            ],
            [
             0.7777777777777778,
             "#fb9f3a"
            ],
            [
             0.8888888888888888,
             "#fdca26"
            ],
            [
             1,
             "#f0f921"
            ]
           ]
          },
          "colorway": [
           "#636efa",
           "#EF553B",
           "#00cc96",
           "#ab63fa",
           "#FFA15A",
           "#19d3f3",
           "#FF6692",
           "#B6E880",
           "#FF97FF",
           "#FECB52"
          ],
          "font": {
           "color": "#2a3f5f"
          },
          "geo": {
           "bgcolor": "white",
           "lakecolor": "white",
           "landcolor": "#E5ECF6",
           "showlakes": true,
           "showland": true,
           "subunitcolor": "white"
          },
          "hoverlabel": {
           "align": "left"
          },
          "hovermode": "closest",
          "mapbox": {
           "style": "light"
          },
          "paper_bgcolor": "white",
          "plot_bgcolor": "#E5ECF6",
          "polar": {
           "angularaxis": {
            "gridcolor": "white",
            "linecolor": "white",
            "ticks": ""
           },
           "bgcolor": "#E5ECF6",
           "radialaxis": {
            "gridcolor": "white",
            "linecolor": "white",
            "ticks": ""
           }
          },
          "scene": {
           "xaxis": {
            "backgroundcolor": "#E5ECF6",
            "gridcolor": "white",
            "gridwidth": 2,
            "linecolor": "white",
            "showbackground": true,
            "ticks": "",
            "zerolinecolor": "white"
           },
           "yaxis": {
            "backgroundcolor": "#E5ECF6",
            "gridcolor": "white",
            "gridwidth": 2,
            "linecolor": "white",
            "showbackground": true,
            "ticks": "",
            "zerolinecolor": "white"
           },
           "zaxis": {
            "backgroundcolor": "#E5ECF6",
            "gridcolor": "white",
            "gridwidth": 2,
            "linecolor": "white",
            "showbackground": true,
            "ticks": "",
            "zerolinecolor": "white"
           }
          },
          "shapedefaults": {
           "line": {
            "color": "#2a3f5f"
           }
          },
          "ternary": {
           "aaxis": {
            "gridcolor": "white",
            "linecolor": "white",
            "ticks": ""
           },
           "baxis": {
            "gridcolor": "white",
            "linecolor": "white",
            "ticks": ""
           },
           "bgcolor": "#E5ECF6",
           "caxis": {
            "gridcolor": "white",
            "linecolor": "white",
            "ticks": ""
           }
          },
          "title": {
           "x": 0.05
          },
          "xaxis": {
           "automargin": true,
           "gridcolor": "white",
           "linecolor": "white",
           "ticks": "",
           "title": {
            "standoff": 15
           },
           "zerolinecolor": "white",
           "zerolinewidth": 2
          },
          "yaxis": {
           "automargin": true,
           "gridcolor": "white",
           "linecolor": "white",
           "ticks": "",
           "title": {
            "standoff": 15
           },
           "zerolinecolor": "white",
           "zerolinewidth": 2
          }
         }
        },
        "title": {
         "text": "NVIDIA Price Analysis (Candlestick Chart)"
        },
        "xaxis": {
         "rangeslider": {
          "visible": false
         }
        }
       }
      }
     },
     "metadata": {},
     "output_type": "display_data"
    }
   ],
   "source": [
    "import plotly.graph_objects as go\n",
    "figure2 = go.Figure(data=[go.Candlestick(x = data[\"Date\"],\n",
    "                                        open = data[\"open\"], \n",
    "                                        high = data[\"high\"],\n",
    "                                        low = data[\"low\"], \n",
    "                                        close = data[\"close\"])])\n",
    "figure2.update_layout(title = \"NVIDIA Price Analysis (Candlestick Chart)\", \n",
    "                     xaxis_rangeslider_visible = False)\n",
    "figure2.show()"
   ]
  },
  {
   "cell_type": "code",
   "execution_count": null,
   "metadata": {},
   "outputs": [
    {
     "data": {
      "application/vnd.plotly.v1+json": {
       "config": {
        "plotlyServerURL": "https://plot.ly"
       },
       "data": [
        {
         "close": {
          "bdata": "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",
          "dtype": "f8"
         },
         "high": {
          "bdata": "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",
          "dtype": "f8"
         },
         "low": {
          "bdata": "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",
          "dtype": "f8"
         },
         "open": {
          "bdata": "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",
          "dtype": "f8"
         },
         "type": "candlestick",
         "x": [
          "2023-02-13T00:00:00.000000000",
          "2023-02-14T00:00:00.000000000",
          "2023-02-15T00:00:00.000000000",
          "2023-02-16T00:00:00.000000000",
          "2023-02-17T00:00:00.000000000",
          "2023-02-21T00:00:00.000000000",
          "2023-02-22T00:00:00.000000000",
          "2023-02-23T00:00:00.000000000",
          "2023-02-24T00:00:00.000000000",
          "2023-02-27T00:00:00.000000000",
          "2023-02-28T00:00:00.000000000",
          "2023-03-01T00:00:00.000000000",
          "2023-03-02T00:00:00.000000000",
          "2023-03-03T00:00:00.000000000",
          "2023-03-06T00:00:00.000000000",
          "2023-03-07T00:00:00.000000000",
          "2023-03-08T00:00:00.000000000",
          "2023-03-09T00:00:00.000000000",
          "2023-03-10T00:00:00.000000000",
          "2023-03-13T00:00:00.000000000",
          "2023-03-14T00:00:00.000000000",
          "2023-03-15T00:00:00.000000000",
          "2023-03-16T00:00:00.000000000",
          "2023-03-17T00:00:00.000000000",
          "2023-03-20T00:00:00.000000000",
          "2023-03-21T00:00:00.000000000",
          "2023-03-22T00:00:00.000000000",
          "2023-03-23T00:00:00.000000000",
          "2023-03-24T00:00:00.000000000",
          "2023-03-27T00:00:00.000000000",
          "2023-03-28T00:00:00.000000000",
          "2023-03-29T00:00:00.000000000",
          "2023-03-30T00:00:00.000000000",
          "2023-03-31T00:00:00.000000000",
          "2023-04-03T00:00:00.000000000",
          "2023-04-04T00:00:00.000000000",
          "2023-04-05T00:00:00.000000000",
          "2023-04-06T00:00:00.000000000",
          "2023-04-10T00:00:00.000000000",
          "2023-04-11T00:00:00.000000000",
          "2023-04-12T00:00:00.000000000",
          "2023-04-13T00:00:00.000000000",
          "2023-04-14T00:00:00.000000000",
          "2023-04-17T00:00:00.000000000",
          "2023-04-18T00:00:00.000000000",
          "2023-04-19T00:00:00.000000000",
          "2023-04-20T00:00:00.000000000",
          "2023-04-21T00:00:00.000000000",
          "2023-04-24T00:00:00.000000000",
          "2023-04-25T00:00:00.000000000",
          "2023-04-26T00:00:00.000000000",
          "2023-04-27T00:00:00.000000000",
          "2023-04-28T00:00:00.000000000",
          "2023-05-01T00:00:00.000000000",
          "2023-05-02T00:00:00.000000000",
          "2023-05-03T00:00:00.000000000",
          "2023-05-04T00:00:00.000000000",
          "2023-05-05T00:00:00.000000000",
          "2023-05-08T00:00:00.000000000",
          "2023-05-09T00:00:00.000000000",
          "2023-05-10T00:00:00.000000000",
          "2023-05-11T00:00:00.000000000",
          "2023-05-12T00:00:00.000000000",
          "2023-05-15T00:00:00.000000000",
          "2023-05-16T00:00:00.000000000",
          "2023-05-17T00:00:00.000000000",
          "2023-05-18T00:00:00.000000000",
          "2023-05-19T00:00:00.000000000",
          "2023-05-22T00:00:00.000000000",
          "2023-05-23T00:00:00.000000000",
          "2023-05-24T00:00:00.000000000",
          "2023-05-25T00:00:00.000000000",
          "2023-05-26T00:00:00.000000000",
          "2023-05-30T00:00:00.000000000",
          "2023-05-31T00:00:00.000000000",
          "2023-06-01T00:00:00.000000000",
          "2023-06-02T00:00:00.000000000",
          "2023-06-05T00:00:00.000000000",
          "2023-06-06T00:00:00.000000000",
          "2023-06-07T00:00:00.000000000",
          "2023-06-08T00:00:00.000000000",
          "2023-06-09T00:00:00.000000000",
          "2023-06-12T00:00:00.000000000",
          "2023-06-13T00:00:00.000000000",
          "2023-06-14T00:00:00.000000000",
          "2023-06-15T00:00:00.000000000",
          "2023-06-16T00:00:00.000000000",
          "2023-06-20T00:00:00.000000000",
          "2023-06-21T00:00:00.000000000",
          "2023-06-22T00:00:00.000000000",
          "2023-06-23T00:00:00.000000000",
          "2023-06-26T00:00:00.000000000",
          "2023-06-27T00:00:00.000000000",
          "2023-06-28T00:00:00.000000000",
          "2023-06-29T00:00:00.000000000",
          "2023-06-30T00:00:00.000000000",
          "2023-07-03T00:00:00.000000000",
          "2023-07-05T00:00:00.000000000",
          "2023-07-06T00:00:00.000000000",
          "2023-07-07T00:00:00.000000000",
          "2023-07-10T00:00:00.000000000",
          "2023-07-11T00:00:00.000000000",
          "2023-07-12T00:00:00.000000000",
          "2023-07-13T00:00:00.000000000",
          "2023-07-14T00:00:00.000000000",
          "2023-07-17T00:00:00.000000000",
          "2023-07-18T00:00:00.000000000",
          "2023-07-19T00:00:00.000000000",
          "2023-07-20T00:00:00.000000000",
          "2023-07-21T00:00:00.000000000",
          "2023-07-24T00:00:00.000000000",
          "2023-07-25T00:00:00.000000000",
          "2023-07-26T00:00:00.000000000",
          "2023-07-27T00:00:00.000000000",
          "2023-07-28T00:00:00.000000000",
          "2023-07-31T00:00:00.000000000",
          "2023-08-01T00:00:00.000000000",
          "2023-08-02T00:00:00.000000000",
          "2023-08-03T00:00:00.000000000",
          "2023-08-04T00:00:00.000000000",
          "2023-08-07T00:00:00.000000000",
          "2023-08-08T00:00:00.000000000",
          "2023-08-09T00:00:00.000000000",
          "2023-08-10T00:00:00.000000000",
          "2023-08-11T00:00:00.000000000",
          "2023-08-14T00:00:00.000000000",
          "2023-08-15T00:00:00.000000000",
          "2023-08-16T00:00:00.000000000",
          "2023-08-17T00:00:00.000000000",
          "2023-08-18T00:00:00.000000000",
          "2023-08-21T00:00:00.000000000",
          "2023-08-22T00:00:00.000000000",
          "2023-08-23T00:00:00.000000000",
          "2023-08-24T00:00:00.000000000",
          "2023-08-25T00:00:00.000000000",
          "2023-08-28T00:00:00.000000000",
          "2023-08-29T00:00:00.000000000",
          "2023-08-30T00:00:00.000000000",
          "2023-08-31T00:00:00.000000000",
          "2023-09-01T00:00:00.000000000",
          "2023-09-05T00:00:00.000000000",
          "2023-09-06T00:00:00.000000000",
          "2023-09-07T00:00:00.000000000",
          "2023-09-08T00:00:00.000000000",
          "2023-09-11T00:00:00.000000000",
          "2023-09-12T00:00:00.000000000",
          "2023-09-13T00:00:00.000000000",
          "2023-09-14T00:00:00.000000000",
          "2023-09-15T00:00:00.000000000",
          "2023-09-18T00:00:00.000000000",
          "2023-09-19T00:00:00.000000000",
          "2023-09-20T00:00:00.000000000",
          "2023-09-21T00:00:00.000000000",
          "2023-09-22T00:00:00.000000000",
          "2023-09-25T00:00:00.000000000",
          "2023-09-26T00:00:00.000000000",
          "2023-09-27T00:00:00.000000000",
          "2023-09-28T00:00:00.000000000",
          "2023-09-29T00:00:00.000000000",
          "2023-10-02T00:00:00.000000000",
          "2023-10-03T00:00:00.000000000",
          "2023-10-04T00:00:00.000000000",
          "2023-10-05T00:00:00.000000000",
          "2023-10-06T00:00:00.000000000",
          "2023-10-09T00:00:00.000000000",
          "2023-10-10T00:00:00.000000000",
          "2023-10-11T00:00:00.000000000",
          "2023-10-12T00:00:00.000000000",
          "2023-10-13T00:00:00.000000000",
          "2023-10-16T00:00:00.000000000",
          "2023-10-17T00:00:00.000000000",
          "2023-10-18T00:00:00.000000000",
          "2023-10-19T00:00:00.000000000",
          "2023-10-20T00:00:00.000000000",
          "2023-10-23T00:00:00.000000000",
          "2023-10-24T00:00:00.000000000",
          "2023-10-25T00:00:00.000000000",
          "2023-10-26T00:00:00.000000000",
          "2023-10-27T00:00:00.000000000",
          "2023-10-30T00:00:00.000000000",
          "2023-10-31T00:00:00.000000000",
          "2023-11-01T00:00:00.000000000",
          "2023-11-02T00:00:00.000000000",
          "2023-11-03T00:00:00.000000000",
          "2023-11-06T00:00:00.000000000",
          "2023-11-07T00:00:00.000000000",
          "2023-11-08T00:00:00.000000000",
          "2023-11-09T00:00:00.000000000",
          "2023-11-10T00:00:00.000000000",
          "2023-11-13T00:00:00.000000000",
          "2023-11-14T00:00:00.000000000",
          "2023-11-15T00:00:00.000000000",
          "2023-11-16T00:00:00.000000000",
          "2023-11-17T00:00:00.000000000",
          "2023-11-20T00:00:00.000000000",
          "2023-11-21T00:00:00.000000000",
          "2023-11-22T00:00:00.000000000",
          "2023-11-24T00:00:00.000000000",
          "2023-11-27T00:00:00.000000000",
          "2023-11-28T00:00:00.000000000",
          "2023-11-29T00:00:00.000000000",
          "2023-11-30T00:00:00.000000000",
          "2023-12-01T00:00:00.000000000",
          "2023-12-04T00:00:00.000000000",
          "2023-12-05T00:00:00.000000000",
          "2023-12-06T00:00:00.000000000",
          "2023-12-07T00:00:00.000000000",
          "2023-12-08T00:00:00.000000000",
          "2023-12-11T00:00:00.000000000",
          "2023-12-12T00:00:00.000000000",
          "2023-12-13T00:00:00.000000000",
          "2023-12-14T00:00:00.000000000",
          "2023-12-15T00:00:00.000000000",
          "2023-12-18T00:00:00.000000000",
          "2023-12-19T00:00:00.000000000",
          "2023-12-20T00:00:00.000000000",
          "2023-12-21T00:00:00.000000000",
          "2023-12-22T00:00:00.000000000",
          "2023-12-26T00:00:00.000000000",
          "2023-12-27T00:00:00.000000000",
          "2023-12-28T00:00:00.000000000",
          "2023-12-29T00:00:00.000000000",
          "2024-01-02T00:00:00.000000000",
          "2024-01-03T00:00:00.000000000",
          "2024-01-04T00:00:00.000000000",
          "2024-01-05T00:00:00.000000000",
          "2024-01-08T00:00:00.000000000",
          "2024-01-09T00:00:00.000000000",
          "2024-01-10T00:00:00.000000000",
          "2024-01-11T00:00:00.000000000",
          "2024-01-12T00:00:00.000000000",
          "2024-01-16T00:00:00.000000000",
          "2024-01-17T00:00:00.000000000",
          "2024-01-18T00:00:00.000000000",
          "2024-01-19T00:00:00.000000000",
          "2024-01-22T00:00:00.000000000",
          "2024-01-23T00:00:00.000000000",
          "2024-01-24T00:00:00.000000000",
          "2024-01-25T00:00:00.000000000",
          "2024-01-26T00:00:00.000000000",
          "2024-01-29T00:00:00.000000000",
          "2024-01-30T00:00:00.000000000",
          "2024-01-31T00:00:00.000000000",
          "2024-02-01T00:00:00.000000000",
          "2024-02-02T00:00:00.000000000",
          "2024-02-05T00:00:00.000000000",
          "2024-02-06T00:00:00.000000000",
          "2024-02-07T00:00:00.000000000",
          "2024-02-08T00:00:00.000000000",
          "2024-02-09T00:00:00.000000000",
          "2024-02-12T00:00:00.000000000",
          "2024-02-13T00:00:00.000000000",
          "2024-02-14T00:00:00.000000000",
          "2024-02-15T00:00:00.000000000",
          "2024-02-16T00:00:00.000000000",
          "2024-02-20T00:00:00.000000000",
          "2024-02-21T00:00:00.000000000",
          "2024-02-22T00:00:00.000000000",
          "2024-02-23T00:00:00.000000000",
          "2024-02-26T00:00:00.000000000",
          "2024-02-27T00:00:00.000000000",
          "2024-02-28T00:00:00.000000000",
          "2024-02-29T00:00:00.000000000",
          "2024-03-01T00:00:00.000000000",
          "2024-03-04T00:00:00.000000000",
          "2024-03-05T00:00:00.000000000",
          "2024-03-06T00:00:00.000000000",
          "2024-03-07T00:00:00.000000000",
          "2024-03-08T00:00:00.000000000",
          "2024-03-11T00:00:00.000000000",
          "2024-03-12T00:00:00.000000000",
          "2024-03-13T00:00:00.000000000",
          "2024-03-14T00:00:00.000000000",
          "2024-03-15T00:00:00.000000000",
          "2024-03-18T00:00:00.000000000",
          "2024-03-19T00:00:00.000000000",
          "2024-03-20T00:00:00.000000000",
          "2024-03-21T00:00:00.000000000",
          "2024-03-22T00:00:00.000000000",
          "2024-03-25T00:00:00.000000000",
          "2024-03-26T00:00:00.000000000",
          "2024-03-27T00:00:00.000000000",
          "2024-03-28T00:00:00.000000000",
          "2024-04-01T00:00:00.000000000",
          "2024-04-02T00:00:00.000000000",
          "2024-04-03T00:00:00.000000000",
          "2024-04-04T00:00:00.000000000",
          "2024-04-05T00:00:00.000000000",
          "2024-04-08T00:00:00.000000000",
          "2024-04-09T00:00:00.000000000",
          "2024-04-10T00:00:00.000000000",
          "2024-04-11T00:00:00.000000000",
          "2024-04-12T00:00:00.000000000",
          "2024-04-15T00:00:00.000000000",
          "2024-04-16T00:00:00.000000000",
          "2024-04-17T00:00:00.000000000",
          "2024-04-18T00:00:00.000000000",
          "2024-04-19T00:00:00.000000000",
          "2024-04-22T00:00:00.000000000",
          "2024-04-23T00:00:00.000000000",
          "2024-04-24T00:00:00.000000000",
          "2024-04-25T00:00:00.000000000",
          "2024-04-26T00:00:00.000000000",
          "2024-04-29T00:00:00.000000000",
          "2024-04-30T00:00:00.000000000",
          "2024-05-01T00:00:00.000000000",
          "2024-05-02T00:00:00.000000000",
          "2024-05-03T00:00:00.000000000",
          "2024-05-06T00:00:00.000000000",
          "2024-05-07T00:00:00.000000000",
          "2024-05-08T00:00:00.000000000",
          "2024-05-09T00:00:00.000000000",
          "2024-05-10T00:00:00.000000000",
          "2024-05-13T00:00:00.000000000",
          "2024-05-14T00:00:00.000000000",
          "2024-05-15T00:00:00.000000000",
          "2024-05-16T00:00:00.000000000",
          "2024-05-17T00:00:00.000000000",
          "2024-05-20T00:00:00.000000000",
          "2024-05-21T00:00:00.000000000",
          "2024-05-22T00:00:00.000000000",
          "2024-05-23T00:00:00.000000000",
          "2024-05-24T00:00:00.000000000",
          "2024-05-28T00:00:00.000000000",
          "2024-05-29T00:00:00.000000000",
          "2024-05-30T00:00:00.000000000",
          "2024-05-31T00:00:00.000000000",
          "2024-06-03T00:00:00.000000000",
          "2024-06-04T00:00:00.000000000",
          "2024-06-05T00:00:00.000000000",
          "2024-06-06T00:00:00.000000000",
          "2024-06-07T00:00:00.000000000",
          "2024-06-10T00:00:00.000000000",
          "2024-06-11T00:00:00.000000000",
          "2024-06-12T00:00:00.000000000",
          "2024-06-13T00:00:00.000000000",
          "2024-06-14T00:00:00.000000000",
          "2024-06-17T00:00:00.000000000",
          "2024-06-18T00:00:00.000000000",
          "2024-06-20T00:00:00.000000000",
          "2024-06-21T00:00:00.000000000",
          "2024-06-24T00:00:00.000000000",
          "2024-06-25T00:00:00.000000000",
          "2024-06-26T00:00:00.000000000",
          "2024-06-27T00:00:00.000000000",
          "2024-06-28T00:00:00.000000000",
          "2024-07-01T00:00:00.000000000",
          "2024-07-02T00:00:00.000000000",
          "2024-07-03T00:00:00.000000000",
          "2024-07-05T00:00:00.000000000",
          "2024-07-08T00:00:00.000000000",
          "2024-07-09T00:00:00.000000000",
          "2024-07-10T00:00:00.000000000",
          "2024-07-11T00:00:00.000000000",
          "2024-07-12T00:00:00.000000000",
          "2024-07-15T00:00:00.000000000",
          "2024-07-16T00:00:00.000000000",
          "2024-07-17T00:00:00.000000000",
          "2024-07-18T00:00:00.000000000",
          "2024-07-19T00:00:00.000000000",
          "2024-07-22T00:00:00.000000000",
          "2024-07-23T00:00:00.000000000",
          "2024-07-24T00:00:00.000000000",
          "2024-07-25T00:00:00.000000000",
          "2024-07-26T00:00:00.000000000",
          "2024-07-29T00:00:00.000000000",
          "2024-07-30T00:00:00.000000000",
          "2024-07-31T00:00:00.000000000",
          "2024-08-01T00:00:00.000000000",
          "2024-08-02T00:00:00.000000000",
          "2024-08-05T00:00:00.000000000",
          "2024-08-06T00:00:00.000000000",
          "2024-08-07T00:00:00.000000000",
          "2024-08-08T00:00:00.000000000",
          "2024-08-09T00:00:00.000000000",
          "2024-08-12T00:00:00.000000000",
          "2024-08-13T00:00:00.000000000",
          "2024-08-14T00:00:00.000000000",
          "2024-08-15T00:00:00.000000000",
          "2024-08-16T00:00:00.000000000",
          "2024-08-19T00:00:00.000000000",
          "2024-08-20T00:00:00.000000000",
          "2024-08-21T00:00:00.000000000",
          "2024-08-22T00:00:00.000000000",
          "2024-08-23T00:00:00.000000000",
          "2024-08-26T00:00:00.000000000",
          "2024-08-27T00:00:00.000000000",
          "2024-08-28T00:00:00.000000000",
          "2024-08-29T00:00:00.000000000",
          "2024-08-30T00:00:00.000000000",
          "2024-09-03T00:00:00.000000000",
          "2024-09-04T00:00:00.000000000",
          "2024-09-05T00:00:00.000000000",
          "2024-09-06T00:00:00.000000000",
          "2024-09-09T00:00:00.000000000",
          "2024-09-10T00:00:00.000000000",
          "2024-09-11T00:00:00.000000000",
          "2024-09-12T00:00:00.000000000",
          "2024-09-13T00:00:00.000000000",
          "2024-09-16T00:00:00.000000000",
          "2024-09-17T00:00:00.000000000",
          "2024-09-18T00:00:00.000000000",
          "2024-09-19T00:00:00.000000000",
          "2024-09-20T00:00:00.000000000",
          "2024-09-23T00:00:00.000000000",
          "2024-09-24T00:00:00.000000000",
          "2024-09-25T00:00:00.000000000",
          "2024-09-26T00:00:00.000000000",
          "2024-09-27T00:00:00.000000000",
          "2024-09-30T00:00:00.000000000",
          "2024-10-01T00:00:00.000000000",
          "2024-10-02T00:00:00.000000000",
          "2024-10-03T00:00:00.000000000",
          "2024-10-04T00:00:00.000000000",
          "2024-10-07T00:00:00.000000000",
          "2024-10-08T00:00:00.000000000",
          "2024-10-09T00:00:00.000000000",
          "2024-10-10T00:00:00.000000000",
          "2024-10-11T00:00:00.000000000",
          "2024-10-14T00:00:00.000000000",
          "2024-10-15T00:00:00.000000000",
          "2024-10-16T00:00:00.000000000",
          "2024-10-17T00:00:00.000000000",
          "2024-10-18T00:00:00.000000000",
          "2024-10-21T00:00:00.000000000",
          "2024-10-22T00:00:00.000000000",
          "2024-10-23T00:00:00.000000000",
          "2024-10-24T00:00:00.000000000",
          "2024-10-25T00:00:00.000000000",
          "2024-10-28T00:00:00.000000000",
          "2024-10-29T00:00:00.000000000",
          "2024-10-30T00:00:00.000000000",
          "2024-10-31T00:00:00.000000000",
          "2024-11-01T00:00:00.000000000",
          "2024-11-04T00:00:00.000000000",
          "2024-11-05T00:00:00.000000000",
          "2024-11-06T00:00:00.000000000",
          "2024-11-07T00:00:00.000000000",
          "2024-11-08T00:00:00.000000000",
          "2024-11-11T00:00:00.000000000",
          "2024-11-12T00:00:00.000000000",
          "2024-11-13T00:00:00.000000000",
          "2024-11-14T00:00:00.000000000",
          "2024-11-15T00:00:00.000000000",
          "2024-11-18T00:00:00.000000000",
          "2024-11-19T00:00:00.000000000",
          "2024-11-20T00:00:00.000000000",
          "2024-11-21T00:00:00.000000000",
          "2024-11-22T00:00:00.000000000",
          "2024-11-25T00:00:00.000000000",
          "2024-11-26T00:00:00.000000000",
          "2024-11-27T00:00:00.000000000",
          "2024-11-29T00:00:00.000000000",
          "2024-12-02T00:00:00.000000000",
          "2024-12-03T00:00:00.000000000",
          "2024-12-04T00:00:00.000000000",
          "2024-12-05T00:00:00.000000000",
          "2024-12-06T00:00:00.000000000",
          "2024-12-09T00:00:00.000000000",
          "2024-12-10T00:00:00.000000000",
          "2024-12-11T00:00:00.000000000",
          "2024-12-12T00:00:00.000000000",
          "2024-12-13T00:00:00.000000000",
          "2024-12-16T00:00:00.000000000",
          "2024-12-17T00:00:00.000000000",
          "2024-12-18T00:00:00.000000000",
          "2024-12-19T00:00:00.000000000",
          "2024-12-20T00:00:00.000000000",
          "2024-12-23T00:00:00.000000000",
          "2024-12-24T00:00:00.000000000",
          "2024-12-26T00:00:00.000000000",
          "2024-12-27T00:00:00.000000000",
          "2024-12-30T00:00:00.000000000",
          "2024-12-31T00:00:00.000000000",
          "2025-01-02T00:00:00.000000000",
          "2025-01-03T00:00:00.000000000",
          "2025-01-06T00:00:00.000000000",
          "2025-01-07T00:00:00.000000000",
          "2025-01-08T00:00:00.000000000",
          "2025-01-10T00:00:00.000000000",
          "2025-01-13T00:00:00.000000000",
          "2025-01-14T00:00:00.000000000",
          "2025-01-15T00:00:00.000000000",
          "2025-01-16T00:00:00.000000000",
          "2025-01-17T00:00:00.000000000",
          "2025-01-21T00:00:00.000000000",
          "2025-01-22T00:00:00.000000000",
          "2025-01-23T00:00:00.000000000",
          "2025-01-24T00:00:00.000000000",
          "2025-01-27T00:00:00.000000000",
          "2025-01-28T00:00:00.000000000",
          "2025-01-29T00:00:00.000000000",
          "2025-01-30T00:00:00.000000000",
          "2025-01-31T00:00:00.000000000",
          "2025-02-03T00:00:00.000000000",
          "2025-02-04T00:00:00.000000000",
          "2025-02-05T00:00:00.000000000",
          "2025-02-06T00:00:00.000000000",
          "2025-02-07T00:00:00.000000000",
          "2025-02-10T00:00:00.000000000",
          "2025-02-11T00:00:00.000000000"
         ]
        }
       ],
       "layout": {
        "template": {
         "data": {
          "bar": [
           {
            "error_x": {
             "color": "#2a3f5f"
            },
            "error_y": {
             "color": "#2a3f5f"
            },
            "marker": {
             "line": {
              "color": "#E5ECF6",
              "width": 0.5
             },
             "pattern": {
              "fillmode": "overlay",
              "size": 10,
              "solidity": 0.2
             }
            },
            "type": "bar"
           }
          ],
          "barpolar": [
           {
            "marker": {
             "line": {
              "color": "#E5ECF6",
              "width": 0.5
             },
             "pattern": {
              "fillmode": "overlay",
              "size": 10,
              "solidity": 0.2
             }
            },
            "type": "barpolar"
           }
          ],
          "carpet": [
           {
            "aaxis": {
             "endlinecolor": "#2a3f5f",
             "gridcolor": "white",
             "linecolor": "white",
             "minorgridcolor": "white",
             "startlinecolor": "#2a3f5f"
            },
            "baxis": {
             "endlinecolor": "#2a3f5f",
             "gridcolor": "white",
             "linecolor": "white",
             "minorgridcolor": "white",
             "startlinecolor": "#2a3f5f"
            },
            "type": "carpet"
           }
          ],
          "choropleth": [
           {
            "colorbar": {
             "outlinewidth": 0,
             "ticks": ""
            },
            "type": "choropleth"
           }
          ],
          "contour": [
           {
            "colorbar": {
             "outlinewidth": 0,
             "ticks": ""
            },
            "colorscale": [
             [
              0,
              "#0d0887"
             ],
             [
              0.1111111111111111,
              "#46039f"
             ],
             [
              0.2222222222222222,
              "#7201a8"
             ],
             [
              0.3333333333333333,
              "#9c179e"
             ],
             [
              0.4444444444444444,
              "#bd3786"
             ],
             [
              0.5555555555555556,
              "#d8576b"
             ],
             [
              0.6666666666666666,
              "#ed7953"
             ],
             [
              0.7777777777777778,
              "#fb9f3a"
             ],
             [
              0.8888888888888888,
              "#fdca26"
             ],
             [
              1,
              "#f0f921"
             ]
            ],
            "type": "contour"
           }
          ],
          "contourcarpet": [
           {
            "colorbar": {
             "outlinewidth": 0,
             "ticks": ""
            },
            "type": "contourcarpet"
           }
          ],
          "heatmap": [
           {
            "colorbar": {
             "outlinewidth": 0,
             "ticks": ""
            },
            "colorscale": [
             [
              0,
              "#0d0887"
             ],
             [
              0.1111111111111111,
              "#46039f"
             ],
             [
              0.2222222222222222,
              "#7201a8"
             ],
             [
              0.3333333333333333,
              "#9c179e"
             ],
             [
              0.4444444444444444,
              "#bd3786"
             ],
             [
              0.5555555555555556,
              "#d8576b"
             ],
             [
              0.6666666666666666,
              "#ed7953"
             ],
             [
              0.7777777777777778,
              "#fb9f3a"
             ],
             [
              0.8888888888888888,
              "#fdca26"
             ],
             [
              1,
              "#f0f921"
             ]
            ],
            "type": "heatmap"
           }
          ],
          "histogram": [
           {
            "marker": {
             "pattern": {
              "fillmode": "overlay",
              "size": 10,
              "solidity": 0.2
             }
            },
            "type": "histogram"
           }
          ],
          "histogram2d": [
           {
            "colorbar": {
             "outlinewidth": 0,
             "ticks": ""
            },
            "colorscale": [
             [
              0,
              "#0d0887"
             ],
             [
              0.1111111111111111,
              "#46039f"
             ],
             [
              0.2222222222222222,
              "#7201a8"
             ],
             [
              0.3333333333333333,
              "#9c179e"
             ],
             [
              0.4444444444444444,
              "#bd3786"
             ],
             [
              0.5555555555555556,
              "#d8576b"
             ],
             [
              0.6666666666666666,
              "#ed7953"
             ],
             [
              0.7777777777777778,
              "#fb9f3a"
             ],
             [
              0.8888888888888888,
              "#fdca26"
             ],
             [
              1,
              "#f0f921"
             ]
            ],
            "type": "histogram2d"
           }
          ],
          "histogram2dcontour": [
           {
            "colorbar": {
             "outlinewidth": 0,
             "ticks": ""
            },
            "colorscale": [
             [
              0,
              "#0d0887"
             ],
             [
              0.1111111111111111,
              "#46039f"
             ],
             [
              0.2222222222222222,
              "#7201a8"
             ],
             [
              0.3333333333333333,
              "#9c179e"
             ],
             [
              0.4444444444444444,
              "#bd3786"
             ],
             [
              0.5555555555555556,
              "#d8576b"
             ],
             [
              0.6666666666666666,
              "#ed7953"
             ],
             [
              0.7777777777777778,
              "#fb9f3a"
             ],
             [
              0.8888888888888888,
              "#fdca26"
             ],
             [
              1,
              "#f0f921"
             ]
            ],
            "type": "histogram2dcontour"
           }
          ],
          "mesh3d": [
           {
            "colorbar": {
             "outlinewidth": 0,
             "ticks": ""
            },
            "type": "mesh3d"
           }
          ],
          "parcoords": [
           {
            "line": {
             "colorbar": {
              "outlinewidth": 0,
              "ticks": ""
             }
            },
            "type": "parcoords"
           }
          ],
          "pie": [
           {
            "automargin": true,
            "type": "pie"
           }
          ],
          "scatter": [
           {
            "fillpattern": {
             "fillmode": "overlay",
             "size": 10,
             "solidity": 0.2
            },
            "type": "scatter"
           }
          ],
          "scatter3d": [
           {
            "line": {
             "colorbar": {
              "outlinewidth": 0,
              "ticks": ""
             }
            },
            "marker": {
             "colorbar": {
              "outlinewidth": 0,
              "ticks": ""
             }
            },
            "type": "scatter3d"
           }
          ],
          "scattercarpet": [
           {
            "marker": {
             "colorbar": {
              "outlinewidth": 0,
              "ticks": ""
             }
            },
            "type": "scattercarpet"
           }
          ],
          "scattergeo": [
           {
            "marker": {
             "colorbar": {
              "outlinewidth": 0,
              "ticks": ""
             }
            },
            "type": "scattergeo"
           }
          ],
          "scattergl": [
           {
            "marker": {
             "colorbar": {
              "outlinewidth": 0,
              "ticks": ""
             }
            },
            "type": "scattergl"
           }
          ],
          "scattermap": [
           {
            "marker": {
             "colorbar": {
              "outlinewidth": 0,
              "ticks": ""
             }
            },
            "type": "scattermap"
           }
          ],
          "scattermapbox": [
           {
            "marker": {
             "colorbar": {
              "outlinewidth": 0,
              "ticks": ""
             }
            },
            "type": "scattermapbox"
           }
          ],
          "scatterpolar": [
           {
            "marker": {
             "colorbar": {
              "outlinewidth": 0,
              "ticks": ""
             }
            },
            "type": "scatterpolar"
           }
          ],
          "scatterpolargl": [
           {
            "marker": {
             "colorbar": {
              "outlinewidth": 0,
              "ticks": ""
             }
            },
            "type": "scatterpolargl"
           }
          ],
          "scatterternary": [
           {
            "marker": {
             "colorbar": {
              "outlinewidth": 0,
              "ticks": ""
             }
            },
            "type": "scatterternary"
           }
          ],
          "surface": [
           {
            "colorbar": {
             "outlinewidth": 0,
             "ticks": ""
            },
            "colorscale": [
             [
              0,
              "#0d0887"
             ],
             [
              0.1111111111111111,
              "#46039f"
             ],
             [
              0.2222222222222222,
              "#7201a8"
             ],
             [
              0.3333333333333333,
              "#9c179e"
             ],
             [
              0.4444444444444444,
              "#bd3786"
             ],
             [
              0.5555555555555556,
              "#d8576b"
             ],
             [
              0.6666666666666666,
              "#ed7953"
             ],
             [
              0.7777777777777778,
              "#fb9f3a"
             ],
             [
              0.8888888888888888,
              "#fdca26"
             ],
             [
              1,
              "#f0f921"
             ]
            ],
            "type": "surface"
           }
          ],
          "table": [
           {
            "cells": {
             "fill": {
              "color": "#EBF0F8"
             },
             "line": {
              "color": "white"
             }
            },
            "header": {
             "fill": {
              "color": "#C8D4E3"
             },
             "line": {
              "color": "white"
             }
            },
            "type": "table"
           }
          ]
         },
         "layout": {
          "annotationdefaults": {
           "arrowcolor": "#2a3f5f",
           "arrowhead": 0,
           "arrowwidth": 1
          },
          "autotypenumbers": "strict",
          "coloraxis": {
           "colorbar": {
            "outlinewidth": 0,
            "ticks": ""
           }
          },
          "colorscale": {
           "diverging": [
            [
             0,
             "#8e0152"
            ],
            [
             0.1,
             "#c51b7d"
            ],
            [
             0.2,
             "#de77ae"
            ],
            [
             0.3,
             "#f1b6da"
            ],
            [
             0.4,
             "#fde0ef"
            ],
            [
             0.5,
             "#f7f7f7"
            ],
            [
             0.6,
             "#e6f5d0"
            ],
            [
             0.7,
             "#b8e186"
            ],
            [
             0.8,
             "#7fbc41"
            ],
            [
             0.9,
             "#4d9221"
            ],
            [
             1,
             "#276419"
            ]
           ],
           "sequential": [
            [
             0,
             "#0d0887"
            ],
            [
             0.1111111111111111,
             "#46039f"
            ],
            [
             0.2222222222222222,
             "#7201a8"
            ],
            [
             0.3333333333333333,
             "#9c179e"
            ],
            [
             0.4444444444444444,
             "#bd3786"
            ],
            [
             0.5555555555555556,
             "#d8576b"
            ],
            [
             0.6666666666666666,
             "#ed7953"
            ],
            [
             0.7777777777777778,
             "#fb9f3a"
            ],
            [
             0.8888888888888888,
             "#fdca26"
            ],
            [
             1,
             "#f0f921"
            ]
           ],
           "sequentialminus": [
            [
             0,
             "#0d0887"
            ],
            [
             0.1111111111111111,
             "#46039f"
            ],
            [
             0.2222222222222222,
             "#7201a8"
            ],
            [
             0.3333333333333333,
             "#9c179e"
            ],
            [
             0.4444444444444444,
             "#bd3786"
            ],
            [
             0.5555555555555556,
             "#d8576b"
            ],
            [
             0.6666666666666666,
             "#ed7953"
            ],
            [
             0.7777777777777778,
             "#fb9f3a"
            ],
            [
             0.8888888888888888,
             "#fdca26"
            ],
            [
             1,
             "#f0f921"
            ]
           ]
          },
          "colorway": [
           "#636efa",
           "#EF553B",
           "#00cc96",
           "#ab63fa",
           "#FFA15A",
           "#19d3f3",
           "#FF6692",
           "#B6E880",
           "#FF97FF",
           "#FECB52"
          ],
          "font": {
           "color": "#2a3f5f"
          },
          "geo": {
           "bgcolor": "white",
           "lakecolor": "white",
           "landcolor": "#E5ECF6",
           "showlakes": true,
           "showland": true,
           "subunitcolor": "white"
          },
          "hoverlabel": {
           "align": "left"
          },
          "hovermode": "closest",
          "mapbox": {
           "style": "light"
          },
          "paper_bgcolor": "white",
          "plot_bgcolor": "#E5ECF6",
          "polar": {
           "angularaxis": {
            "gridcolor": "white",
            "linecolor": "white",
            "ticks": ""
           },
           "bgcolor": "#E5ECF6",
           "radialaxis": {
            "gridcolor": "white",
            "linecolor": "white",
            "ticks": ""
           }
          },
          "scene": {
           "xaxis": {
            "backgroundcolor": "#E5ECF6",
            "gridcolor": "white",
            "gridwidth": 2,
            "linecolor": "white",
            "showbackground": true,
            "ticks": "",
            "zerolinecolor": "white"
           },
           "yaxis": {
            "backgroundcolor": "#E5ECF6",
            "gridcolor": "white",
            "gridwidth": 2,
            "linecolor": "white",
            "showbackground": true,
            "ticks": "",
            "zerolinecolor": "white"
           },
           "zaxis": {
            "backgroundcolor": "#E5ECF6",
            "gridcolor": "white",
            "gridwidth": 2,
            "linecolor": "white",
            "showbackground": true,
            "ticks": "",
            "zerolinecolor": "white"
           }
          },
          "shapedefaults": {
           "line": {
            "color": "#2a3f5f"
           }
          },
          "ternary": {
           "aaxis": {
            "gridcolor": "white",
            "linecolor": "white",
            "ticks": ""
           },
           "baxis": {
            "gridcolor": "white",
            "linecolor": "white",
            "ticks": ""
           },
           "bgcolor": "#E5ECF6",
           "caxis": {
            "gridcolor": "white",
            "linecolor": "white",
            "ticks": ""
           }
          },
          "title": {
           "x": 0.05
          },
          "xaxis": {
           "automargin": true,
           "gridcolor": "white",
           "linecolor": "white",
           "ticks": "",
           "title": {
            "standoff": 15
           },
           "zerolinecolor": "white",
           "zerolinewidth": 2
          },
          "yaxis": {
           "automargin": true,
           "gridcolor": "white",
           "linecolor": "white",
           "ticks": "",
           "title": {
            "standoff": 15
           },
           "zerolinecolor": "white",
           "zerolinewidth": 2
          }
         }
        },
        "title": {
         "text": "NVIDIA Price Analysis (Interactive)"
        },
        "xaxis": {
         "rangeselector": {
          "buttons": [
           {
            "count": 1,
            "label": "1m",
            "step": "month",
            "stepmode": "backward"
           },
           {
            "count": 6,
            "label": "6m",
            "step": "month",
            "stepmode": "backward"
           },
           {
            "count": 1,
            "label": "YTD",
            "step": "year",
            "stepmode": "todate"
           },
           {
            "count": 1,
            "label": "1y",
            "step": "year",
            "stepmode": "backward"
           },
           {
            "step": "all"
           }
          ]
         },
         "rangeslider": {
          "visible": true
         }
        }
       }
      }
     },
     "metadata": {},
     "output_type": "display_data"
    }
   ],
   "source": [
    "figure3 = go.Figure(data=[go.Candlestick(x = data[\"Date\"],\n",
    "                                        open = data[\"open\"], \n",
    "                                        high = data[\"high\"],\n",
    "                                        low = data[\"low\"], \n",
    "                                        close = data[\"close\"])])\n",
    "\n",
    "figure3.update_layout(title = \"NVIDIA Price Analysis (Interactive)\")\n",
    "\n",
    "figure3.update_xaxes(\n",
    "    rangeslider_visible = True,\n",
    "    rangeselector = dict(\n",
    "        buttons = list([\n",
    "            dict(count = 1, label = \"1m\", step = \"month\", stepmode = \"backward\"),\n",
    "            dict(count = 6, label = \"6m\", step = \"month\", stepmode = \"backward\"),\n",
    "            dict(count = 1, label = \"YTD\", step = \"year\", stepmode = \"todate\"),\n",
    "            dict(count = 1, label = \"1y\", step = \"year\", stepmode = \"backward\"),\n",
    "            dict(step = \"all\")\n",
    "        ])\n",
    "    )\n",
    ")\n",
    "figure3.show()"
   ]
  },
  {
   "cell_type": "code",
   "execution_count": null,
   "metadata": {},
   "outputs": [
    {
     "name": "stderr",
     "output_type": "stream",
     "text": [
      "14:36:52 - cmdstanpy - INFO - Chain [1] start processing\n",
      "14:36:52 - cmdstanpy - INFO - Chain [1] done processing\n"
     ]
    },
    {
     "data": {
      "image/png": "[encoded data removed]",
      "text/plain": [
       "<Figure size 1000x600 with 1 Axes>"
      ]
     },
     "metadata": {},
     "output_type": "display_data"
    }
   ],
   "source": [
    "from prophet import Prophet\n",
    "import matplotlib.pyplot as plt\n",
    "\n",
    "df = data[[\"Date\", \"close\"]]\n",
    "df.columns = [\"ds\", \"y\"] \n",
    "\n",
    "model = Prophet()\n",
    "model.fit(df)\n",
    "\n",
    "future = model.make_future_dataframe(periods=30)\n",
    "forecast = model.predict(future)\n",
    "\n",
    "model.plot(forecast)\n",
    "plt.show()"
   ]
  }
 ],
 "metadata": {
  "kernelspec": {
   "display_name": "Python 3",
   "language": "python",
   "name": "python3"
  },
  "language_info": {
   "codemirror_mode": {
    "name": "ipython",
    "version": 3
   },
   "file_extension": ".py",
   "mimetype": "text/x-python",
   "name": "python",
   "nbconvert_exporter": "python",
   "pygments_lexer": "ipython3",
   "version": "3.13.0"
  }
 },
 "nbformat": 4,
 "nbformat_minor": 2
}
